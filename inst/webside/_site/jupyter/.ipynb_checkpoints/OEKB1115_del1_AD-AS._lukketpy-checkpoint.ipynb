{
 "cells": [
  {
   "cell_type": "markdown",
   "metadata": {
    "ein.tags": "worksheet-0",
    "slideshow": {
     "slide_type": "-"
    }
   },
   "source": [
    "# Initiering"
   ]
  },
  {
   "cell_type": "code",
   "execution_count": 1,
   "metadata": {
    "autoscroll": false,
    "ein.tags": "worksheet-0",
    "slideshow": {
     "slide_type": "-"
    }
   },
   "outputs": [
    {
     "name": "stdout",
     "output_type": "stream",
     "text": [
      "Once deleted, variables cannot be recovered. Proceed (y/[n])? y\n"
     ]
    }
   ],
   "source": [
    "% reset\n",
    "# Initiering\n",
    "# Import packages\n",
    "import json\n",
    "import sympy\n",
    "import numpy\n",
    "import matplotlib.pyplot as plt\n",
    "from sympy import *\n",
    "from matplotlib.pyplot import *\n",
    "init_printing()"
   ]
  },
  {
   "cell_type": "markdown",
   "metadata": {
    "ein.tags": "worksheet-0",
    "slideshow": {
     "slide_type": "-"
    }
   },
   "source": [
    "# AD-AS modellen"
   ]
  },
  {
   "cell_type": "code",
   "execution_count": 2,
   "metadata": {
    "autoscroll": false,
    "collapsed": true,
    "ein.tags": "worksheet-0",
    "slideshow": {
     "slide_type": "-"
    }
   },
   "outputs": [],
   "source": [
    "# Declaring variables\n",
    "## Endogenous\n",
    "Y, C, I, G, Ld, Ms, P, M, W, u, L, N = sympy.symbols('Y C I G L_d M_s, P, M, W, u, L, N')\n",
    "Ys, Id = sympy.symbols('Y^s I^d')\n",
    "## Parametere og konstantledd\n",
    "oC, c1, b, oI, k, h, t, l1, l2, mu, alpha, A, Ac = sympy.symbols('oC c_1 b oI, k, h, t l_1 l_2 mu alpha A Ac')\n",
    "## Exogene styringsvariableh\n",
    "oG, i, T, Pe, z = sympy.symbols('oG i T Pe z')"
   ]
  },
  {
   "cell_type": "code",
   "execution_count": 3,
   "metadata": {
    "autoscroll": false,
    "ein.tags": "worksheet-0",
    "slideshow": {
     "slide_type": "-"
    }
   },
   "outputs": [],
   "source": [
    "beforems = set(dir())\n",
    "## Aktører\n",
    "### Husholdningero\n",
    "#### Konsumfunksjon\n",
    "CD = Eq(C,oC + c1*(Y-T))\n",
    "#### Pengeetterspørsel\n",
    "LD = Eq(Ld,k*Y-h*i)\n",
    "#### Tilbud av arbeidskraft\n",
    "#LS = Eq(W,Pe*(l1*u + l2*z))\n",
    "LS = Eq(W,Pe*(Ac+l1*u))\n",
    "\n",
    "### Bedrifter\n",
    "YS = Eq(Ys, Y)\n",
    "PF = Eq(Y, A*L*alpha)\n",
    "PS = Eq(P, (1+mu)*W)\n",
    "#### Investeringer\n",
    "ID = Eq(Id,oI - b*i)\n",
    "## Offentlig\n",
    "### Offentlig myndigheter\n",
    "GD = Eq(G, oG)\n",
    "TR = Eq(T, t*Y)\n",
    "### Sentralbanken\n",
    "MS = Eq(Ms,M/P)\n",
    "## Markeder\n",
    "### Varemarkedet\n",
    "EQV = Eq(Y, C + I + G)\n",
    "### Pengemarkedet\n",
    "EQM = Eq(Ld, Ms)\n",
    "### Definisjoner\n",
    "DLE = Eq(u, 1 - (L/N))\n",
    "\n",
    "## Løsning av modellen\n",
    "## Likevekt godemarkedet\n",
    "ISC = Eq(Y,solve(EQV.subs([(G, solve(GD, G)[0]),(C,solve(CD, C)[0]), (I, solve(ID, Id)[0])]), Y)[0])\n",
    "## Likevekt pengemarkedet\n",
    "LMC = Eq(Y,solve(EQM.subs([(Ms, solve(MS,Ms)[0]),(Ld,solve(LD,Ld)[0])]),Y)[0])\n",
    "## Samtidig likevekt\n",
    "SEQi =Eq(i,solve(LMC.subs(Y,solve(ISC,Y)[0]),i)[0])\n",
    "SEQY = Eq(Y,solve(ISC.subs(i,solve(LMC,i)[0]),Y)[0])\n",
    "AD = Eq(P,solve(SEQY,P)[0])\n",
    "## AS\n",
    "AS = PS.subs([(W, solve(LS,W)[0]),(u,solve(DLE.subs(L,solve(PF,L)[0]),u)[0])])\n",
    "afterms = set(dir())"
   ]
  },
  {
   "cell_type": "code",
   "execution_count": 4,
   "metadata": {},
   "outputs": [
    {
     "data": {
      "image/png": "[encoded data removed]",
      "text/latex": [
       "$$P = \\frac{M b}{T c_{1} h + Y b k - Y c_{1} h + Y h - h oC - h oG - h oI}$$"
      ],
      "text/plain": [
       "                           M⋅b                        \n",
       "P = ──────────────────────────────────────────────────\n",
       "    T⋅c₁⋅h + Y⋅b⋅k - Y⋅c₁⋅h + Y⋅h - h⋅oC - h⋅oG - h⋅oI"
      ]
     },
     "execution_count": 4,
     "metadata": {},
     "output_type": "execute_result"
    }
   ],
   "source": [
    "Eq(P,solve(SEQY,P)[0])"
   ]
  },
  {
   "cell_type": "code",
   "execution_count": null,
   "metadata": {},
   "outputs": [],
   "source": [
    "modvardict = list(afterms - beforems)\n",
    "modvardict.remove('beforems')\n",
    "#\n",
    "modlatequ = dict()\n",
    "modequ = dict()\n",
    "\n",
    "for teller in range(0,len(modvardict)):\n",
    "    eqvar = modvardict[teller]\n",
    "    modlatequ[eqvar] = latex(eval(modvardict[teller]))\n",
    "    modequ[eqvar] = str(eval(modvardict[teller]).rhs)\n",
    "   \n",
    "expdeftex = open('adasctex.json', 'w')\n",
    "json.dump(modlatequ,expdeftex)\n",
    "expdeftex.close()\n",
    "expdefequ = open('adascequ.json', 'w')\n",
    "json.dump(modequ,expdefequ)\n",
    "expdefequ.close()\n",
    "modvardict"
   ]
  }
 ],
 "metadata": {
  "kernelspec": {
   "display_name": "Python 3",
   "language": "python",
   "name": "python3"
  },
  "language_info": {
   "codemirror_mode": {
    "name": "ipython",
    "version": 3
   },
   "file_extension": ".py",
   "mimetype": "text/x-python",
   "name": "python",
   "nbconvert_exporter": "python",
   "pygments_lexer": "ipython3",
   "version": "3.6.3"
  },
  "name": "OEKB1115_del1.py.ipynb"
 },
 "nbformat": 4,
 "nbformat_minor": 2
}
