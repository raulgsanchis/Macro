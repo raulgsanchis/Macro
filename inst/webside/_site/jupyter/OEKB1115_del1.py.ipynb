{
 "cells": [
  {
   "cell_type": "markdown",
   "metadata": {
    "ein.tags": "worksheet-0",
    "slideshow": {
     "slide_type": "-"
    }
   },
   "source": [
    "# Initiering"
   ]
  },
  {
   "cell_type": "code",
   "execution_count": null,
   "metadata": {
    "autoscroll": false,
    "collapsed": false,
    "ein.tags": "worksheet-0",
    "slideshow": {
     "slide_type": "-"
    }
   },
   "outputs": [],
   "source": [
    "% reset\n",
    "# Initiering\n",
    "# Import packages\n",
    "import json\n",
    "import sympy\n",
    "import numpy\n",
    "import matplotlib.pyplot as plt\n",
    "from sympy import *\n",
    "from matplotlib.pyplot import *"
   ]
  },
  {
   "cell_type": "markdown",
   "metadata": {
    "ein.tags": "worksheet-0",
    "slideshow": {
     "slide_type": "-"
    }
   },
   "source": [
    "# Enkel Keynes-modell"
   ]
  },
  {
   "cell_type": "code",
   "execution_count": null,
   "metadata": {
    "autoscroll": false,
    "collapsed": false,
    "ein.tags": "worksheet-0",
    "slideshow": {
     "slide_type": "-"
    }
   },
   "outputs": [],
   "source": [
    "# Declaring variables\n",
    "## Endogenous\n",
    "Y, C, I, G = sympy.symbols('Y C I G')\n",
    "Ys, Id = sympy.symbols('Y^s I^d')\n",
    "## Parameters\n",
    "oC, c1, a, oI = sympy.symbols('oC c_1 a oI')\n",
    "## Exogenous\n",
    "oG, oI,  t = sympy.symbols('oG oI theta')"
   ]
  },
  {
   "cell_type": "code",
   "execution_count": 4,
   "metadata": {
    "autoscroll": false,
    "collapsed": false,
    "ein.tags": "worksheet-0",
    "slideshow": {
     "slide_type": "-"
    }
   },
   "outputs": [
    {
     "name": "stdout",
     "output_type": "stream",
     "text": [
      "theta\n"
     ]
    }
   ],
   "source": [
    "print(t)"
   ]
  },
  {
   "cell_type": "markdown",
   "metadata": {
    "ein.tags": "worksheet-0",
    "slideshow": {
     "slide_type": "-"
    }
   },
   "source": [
    "# IS-LM modellen for en lukket økonomi"
   ]
  },
  {
   "cell_type": "code",
   "execution_count": 5,
   "metadata": {
    "autoscroll": false,
    "collapsed": false,
    "ein.tags": "worksheet-0",
    "slideshow": {
     "slide_type": "-"
    }
   },
   "outputs": [],
   "source": [
    "## Aktører\n",
    "### Hoseholdinger\n",
    "#### Konsumfunksjon\n",
    "CD = Eq(C,oC + c1*Y)\n",
    "### Bedrifter\n",
    "YS = Eq(Ys, Y)\n",
    "#### Investeringer\n",
    "ID = Eq(Id,oI + a*i)\n",
    "## Abc\n",
    "GD = Eq(G, oG)\n",
    "\n",
    "## Markeder\n",
    "### Varemarkedet\n",
    "EQV = Eq(Y, C + I + G)\n",
    "\n",
    "## Løsning av modellen\n",
    "AD = Eq(Y,solve(EQV.subs([(G, solve(GD, G)[0]),(C,solve(CD, C)[0]), (I, solve(ID, Id)[0])]), Y)[0])\n",
    "## Endringer\n",
    "\n",
    "## Stabiliseringspolitikk\n"
   ]
  },
  {
   "cell_type": "code",
   "execution_count": 6,
   "metadata": {
    "autoscroll": false,
    "collapsed": false,
    "ein.tags": "worksheet-0",
    "slideshow": {
     "slide_type": "-"
    }
   },
   "outputs": [],
   "source": [
    "# Declaring variables\n",
    "## EndogenousB\n",
    "L, M, P= sympy.symbols('L M P')\n",
    "## Exogenous\n",
    "oM = sympy.symbols('oM')\n",
    "## Parameters\n",
    "k, h = sympy.symbols('kappa h')"
   ]
  },
  {
   "cell_type": "code",
   "execution_count": 7,
   "metadata": {
    "autoscroll": false,
    "collapsed": false,
    "ein.tags": "worksheet-0",
    "slideshow": {
     "slide_type": "-"
    }
   },
   "outputs": [],
   "source": [
    "## Aktører\n",
    "### Huseholdinger\n",
    "#### Konsumfunksjon\n",
    "### Bedrifter\n",
    "#### Investeringer\n",
    "## Markeder\n",
    "### Varemarkedet\n",
    "## Løsning av modellen\n",
    "## Endringer\n",
    "## Stabiliseringspolitikk"
   ]
  },
  {
   "cell_type": "markdown",
   "metadata": {
    "ein.tags": "worksheet-0",
    "slideshow": {
     "slide_type": "-"
    }
   },
   "source": [
    "# AD-AS modellen for en lukket økonomi "
   ]
  },
  {
   "cell_type": "code",
   "execution_count": 8,
   "metadata": {
    "autoscroll": false,
    "collapsed": false,
    "ein.tags": "worksheet-0",
    "slideshow": {
     "slide_type": "-"
    }
   },
   "outputs": [],
   "source": [
    "# Declaring variables\n",
    "## EndogenousB\n",
    "L, M, P= sympy.symbols('L M P')\n",
    "## Exogenous\n",
    "oM = sympy.symbols('oM')\n",
    "## Parameters\n",
    "k, h = sympy.symbols('kappa h')"
   ]
  },
  {
   "cell_type": "code",
   "execution_count": 9,
   "metadata": {
    "autoscroll": false,
    "collapsed": false,
    "ein.tags": "worksheet-0",
    "slideshow": {
     "slide_type": "-"
    }
   },
   "outputs": [],
   "source": [
    "## Aktører\n",
    "### Husholdinger\n",
    "### Bedrifter\n",
    "#### Produktfunksjonen\n",
    "#Y=F(K,L)\n",
    "## Markeder\n",
    "### Arbeidsmarkedet\n",
    "## Løsning av modellen\n",
    "## Komparativ statikk \n",
    "## Stabiliseringspolitikk"
   ]
  },
  {
   "cell_type": "markdown",
   "metadata": {
    "ein.tags": "worksheet-0",
    "slideshow": {
     "slide_type": "-"
    }
   },
   "source": [
    "# Mundell-Flemming modellen for en åpen økonomi"
   ]
  },
  {
   "cell_type": "code",
   "execution_count": 10,
   "metadata": {
    "autoscroll": false,
    "collapsed": false,
    "ein.tags": "worksheet-0",
    "slideshow": {
     "slide_type": "-"
    }
   },
   "outputs": [],
   "source": [
    "# Declaring variables\n",
    "## Endogenous\n",
    "L, M, P= sympy.symbols('L M P')\n",
    "## Exogenous\n",
    "oM = sympy.symbols('oM')\n",
    "## Parameters\n",
    "k, h = sympy.symbols('Kappa h')"
   ]
  },
  {
   "cell_type": "code",
   "execution_count": 11,
   "metadata": {
    "autoscroll": false,
    "collapsed": false,
    "ein.tags": "worksheet-0",
    "slideshow": {
     "slide_type": "-"
    }
   },
   "outputs": [],
   "source": [
    "## Aktører\n",
    "### Hoseholdinger\n",
    "#### Konsumfunksjon\n",
    "### Bedrifter\n",
    "#### Investeringer\n",
    "## Markedet\n",
    "### Valutakursmarkedet"
   ]
  },
  {
   "cell_type": "code",
   "execution_count": 12,
   "metadata": {
    "autoscroll": false,
    "collapsed": false,
    "ein.tags": "worksheet-0",
    "slideshow": {
     "slide_type": "-"
    }
   },
   "outputs": [],
   "source": [
    "# Fast kurs\n",
    "## Løsning av modellen\n",
    "## Endringer\n",
    "## Stabiliseringspolitikk\n",
    "# Flytende kurs\n",
    "## Løsning av modellen\n",
    "## Endringer\n",
    "## Stabiliseringspolitikk"
   ]
  },
  {
   "cell_type": "markdown",
   "metadata": {
    "ein.tags": "worksheet-0",
    "slideshow": {
     "slide_type": "-"
    }
   },
   "source": [
    "# AD-AS modellen for en åpen økonomi"
   ]
  },
  {
   "cell_type": "code",
   "execution_count": null,
   "metadata": {
    "autoscroll": false,
    "collapsed": false,
    "ein.tags": "worksheet-0",
    "slideshow": {
     "slide_type": "-"
    }
   },
   "outputs": [],
   "source": [
    "# Declaring variables\n",
    "## EndogenousB\n",
    "L, M, P= sympy.symbols('L M P')\n",
    "## Exogenous\n",
    "oM = sympy.symbols('oM')\n",
    "## Parameters\n",
    "k, h = sympy.symbols('kappa h')"
   ]
  },
  {
   "cell_type": "code",
   "execution_count": null,
   "metadata": {
    "autoscroll": false,
    "collapsed": false,
    "ein.tags": "worksheet-0",
    "slideshow": {
     "slide_type": "-"
    }
   },
   "outputs": [],
   "source": [
    "## Aktører\n",
    "### Hoseholdinger\n",
    "#### Konsumfunksjon\n",
    "### Bedrifter\n",
    "#### Investeringer\n",
    "## Markeder\n",
    "### Varemarkedet\n",
    "## Løsning av modellen\n",
    "## Endringer\n",
    "## Stabiliseringspolitikk"
   ]
  },
  {
   "cell_type": "markdown",
   "metadata": {
    "ein.tags": "worksheet-0",
    "slideshow": {
     "slide_type": "-"
    }
   },
   "source": [
    "# Appendiks"
   ]
  },
  {
   "cell_type": "code",
   "execution_count": null,
   "metadata": {
    "autoscroll": false,
    "collapsed": false,
    "ein.tags": "worksheet-0",
    "slideshow": {
     "slide_type": "-"
    }
   },
   "outputs": [],
   "source": [
    "beforems = set(dir())\n",
    "afterms = set(dir())\n",
    "modvardict = list(afterms - beforems)\n",
    "modvardict.remove('beforems')\n",
    "#\n",
    "modlatequ = dict()\n",
    "modequ = dict()\n",
    "\n",
    "for teller in range(0,len(modvardict)):\n",
    "    eqvar = modvardict[teller]\n",
    "    modlatequ[eqvar] = latex(eval(modvardict[teller]))\n",
    "    modequ[eqvar] = str(eval(modvardict[teller]).rhs)\n",
    "   \n",
    "expdeftex = open('keynestex.json', 'w')\n",
    "json.dump(modlatequ,expdeftex)\n",
    "expdeftex.close()\n",
    "expdefequ = open('keynesequ.json', 'w')\n",
    "json.dump(modequ,expdefequ)\n",
    "expdefequ.close()\n",
    "modvardict\n",
    "keynesequ <- rjson::fromJSON(file=paste0(devtools::as.package(\".\")$path,'/webside/jupyter/keynesequ.json'))"
   ]
  }
 ],
 "metadata": {
  "kernelspec": {
   "display_name": "Python 3",
   "name": "python3"
  },
  "language_info": {
   "codemirror_mode": {
    "name": "ipython",
    "version": 3
   },
   "file_extension": ".py",
   "mimetype": "text/x-python",
   "name": "python",
   "nbconvert_exporter": "python",
   "pygments_lexer": "ipython3",
   "version": "3.6.3"
  },
  "name": "OEKB1115_del1.py.ipynb"
 },
 "nbformat": 4,
 "nbformat_minor": 2
}
