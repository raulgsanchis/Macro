{
 "cells": [
  {
   "cell_type": "code",
   "execution_count": null,
   "metadata": {
    "autoscroll": false,
    "collapsed": false,
    "ein.tags": "worksheet-0",
    "slideshow": {
     "slide_type": "-"
    }
   },
   "outputs": [],
   "source": [
    "#% reset"
   ]
  },
  {
   "cell_type": "markdown",
   "metadata": {
    "ein.tags": "worksheet-0",
    "slideshow": {
     "slide_type": "-"
    }
   },
   "source": [
    "# Initiering"
   ]
  },
  {
   "cell_type": "code",
   "execution_count": 11,
   "metadata": {
    "autoscroll": false,
    "collapsed": false,
    "ein.tags": "worksheet-0",
    "slideshow": {
     "slide_type": "-"
    }
   },
   "outputs": [],
   "source": [
    "#% reset\n",
    "# Initiering\n",
    "# Import packages\n",
    "import json\n",
    "import sympy\n",
    "import numpy\n",
    "import matplotlib.pyplot as plt\n",
    "from sympy import *\n",
    "from matplotlib.pyplot import *\n",
    "init_printing()"
   ]
  },
  {
   "cell_type": "markdown",
   "metadata": {
    "ein.tags": "worksheet-0",
    "slideshow": {
     "slide_type": "-"
    }
   },
   "source": [
    "# Enkel Keynes-modell"
   ]
  },
  {
   "cell_type": "code",
   "execution_count": 12,
   "metadata": {
    "autoscroll": false,
    "collapsed": false,
    "ein.tags": "worksheet-0",
    "slideshow": {
     "slide_type": "-"
    }
   },
   "outputs": [],
   "source": [
    "# Declaring variables\n",
    "## Endogenous\n",
    "Y, C, I, G = sympy.symbols('Y C I G')\n",
    "Ys, Id = sympy.symbols('Y^s I^d')\n",
    "## Parametere og konstantledd\n",
    "oC, c1, b, oI = sympy.symbols('oC c_1 a oI')\n",
    "## Exogene styringsvariable\n",
    "oG, i = sympy.symbols('oG i')"
   ]
  },
  {
   "cell_type": "code",
   "execution_count": 16,
   "metadata": {
    "autoscroll": false,
    "collapsed": false,
    "ein.tags": "worksheet-0",
    "slideshow": {
     "slide_type": "-"
    }
   },
   "outputs": [],
   "source": [
    "## Aktører\n",
    "### Husholdningero\n",
    "#### Konsumfunksjon\n",
    "CD = Eq(C,oC + c1*Y)\n",
    "### Bedrifter\n",
    "YS = Eq(Ys, Y)\n",
    "#### Investeringer\n",
    "ID = Eq(Id,oI + b*i)\n",
    "## Offentlig myndigheter\n",
    "### Finansdepartementet\n",
    "GD = Eq(G, oG)\n",
    "## Markeder\n",
    "### Varemarkedet\n",
    "EQV = Eq(Y, C + I + G)\n",
    "\n",
    "## Løsning av modellen\n",
    "AD = Eq(Y,solve(EQV.subs([(G, solve(GD, G)[0]),(C,solve(CD, C)[0]), (I, solve(ID, Id)[0])]), Y)[0])\n",
    "\n",
    "## Endringer\n",
    "\n",
    "## Stabiliseringspolitikk\n"
   ]
  },
  {
   "cell_type": "markdown",
   "metadata": {
    "ein.tags": "worksheet-0",
    "slideshow": {
     "slide_type": "-"
    }
   },
   "source": [
    "# IS-LM modellen\n"
   ]
  },
  {
   "cell_type": "code",
   "execution_count": 23,
   "metadata": {
    "autoscroll": false,
    "collapsed": false,
    "ein.tags": "worksheet-0",
    "slideshow": {
     "slide_type": "-"
    }
   },
   "outputs": [],
   "source": [
    "# Declaring variables\n",
    "## Endogenous\n",
    "Y, C, I, G , i, L = sympy.symbols('Y C I G i L')\n",
    "Ys, Id = sympy.symbols('Y^s I^d')\n",
    "## Parametere og konstantledd\n",
    "oC, c1, b, oI, a1, a2 = sympy.symbols('oC c_1 a oI a_1 a_2')\n",
    "## Exogene styringsvariable\n",
    "oG, M, P = sympy.symbols('oG M P')"
   ]
  },
  {
   "cell_type": "code",
   "execution_count": 27,
   "metadata": {
    "autoscroll": false,
    "collapsed": false,
    "ein.tags": "worksheet-0",
    "slideshow": {
     "slide_type": "-"
    }
   },
   "outputs": [],
   "source": [
    "## Aktører\n",
    "### Husholdningene\n",
    "#### Konsumfunksjon\n",
    "CD = Eq(C,oC + c1*Y)\n",
    "#### Pengeetterspørsel\n",
    "MD = Eq(L,a1*i + a2*Y)\n",
    "### Bedrifter\n",
    "YS = Eq(Ys, Y)\n",
    "#### Investeringer\n",
    "ID = Eq(Id,oI + b*i)\n",
    "## Abc\n",
    "GD = Eq(G, oG)\n",
    "\n",
    "## Markeder\n",
    "### Varemarkedet\n",
    "EQV = Eq(Y, C + I + G)\n",
    "### Pengemarkedet\n",
    "EQM = Eq(M/P,L)\n",
    "\n",
    "## Løsning av modellen\n",
    "AD = Eq(Y,solve(EQV.subs([(G, solve(GD, G)[0]),(C,solve(CD, C)[0]), (I, solve(ID, Id)[0])]), Y)[0])\n",
    "\n",
    "#IS =\n",
    "#LM = EQ(Y,)\n",
    "\n",
    "## Endringer\n",
    "\n",
    "## Stabiliseringspolitikk"
   ]
  },
  {
   "cell_type": "markdown",
   "metadata": {
    "ein.tags": "worksheet-0",
    "slideshow": {
     "slide_type": "-"
    }
   },
   "source": [
    "# AD-AS modellen for en lukket økonomi"
   ]
  },
  {
   "cell_type": "code",
   "execution_count": null,
   "metadata": {
    "autoscroll": false,
    "collapsed": false,
    "ein.tags": "worksheet-0",
    "slideshow": {
     "slide_type": "-"
    }
   },
   "outputs": [],
   "source": [
    "# Declaring variables\n",
    "## Endogenous\n",
    "Y, C, I, G = sympy.symbols('Y C I G')\n",
    "Ys, Id = sympy.symbols('Y^s I^d')\n",
    "## Parameters\n",
    "oC, c1, a, oI = sympy.symbols('oC c_1 a oI')\n",
    "## Exogenous\n",
    "oG, oI, i = sympy.symbols('oG oI i')"
   ]
  },
  {
   "cell_type": "code",
   "execution_count": null,
   "metadata": {
    "autoscroll": false,
    "collapsed": false,
    "ein.tags": "worksheet-0",
    "slideshow": {
     "slide_type": "-"
    }
   },
   "outputs": [],
   "source": [
    "## Aktører\n",
    "### Husholdninger\n",
    "#### Konsumfunksjon\n",
    "CD = Eq(C,oC + c1*Y)\n",
    "### Bedrifter\n",
    "YS = Eq(Ys, Y)\n",
    "#### Investeringer\n",
    "ID = Eq(Id,oI + a*i)\n",
    "## Abc\n",
    "GD = Eq(G, oG)\n",
    "\n",
    "## Markeder\n",
    "### Varemarkedet\n",
    "EQV = Eq(Y, C + I + G)\n",
    "\n",
    "## Løsning av modellen\n",
    "AD = Eq(Y,solve(EQV.subs([(G, solve(GD, G)[0]),(C,solve(CD, C)[0]), (I, solve(ID, Id)[0])]), Y)[0])\n",
    "\n",
    "## Endringer\n",
    "\n",
    "## Stabiliseringspolitikk"
   ]
  },
  {
   "cell_type": "markdown",
   "metadata": {
    "ein.tags": "worksheet-0",
    "slideshow": {
     "slide_type": "-"
    }
   },
   "source": [
    "# Enkel Keynes-modell med handel"
   ]
  },
  {
   "cell_type": "code",
   "execution_count": null,
   "metadata": {
    "autoscroll": false,
    "collapsed": false,
    "ein.tags": "worksheet-0",
    "slideshow": {
     "slide_type": "-"
    }
   },
   "outputs": [],
   "source": [
    "# Declaring variables\n",
    "## Endogenous\n",
    "Y, C, I, G = sympy.symbols('Y C I G')\n",
    "Ys, Id = sympy.symbols('Y^s I^d')\n",
    "## Parameters\n",
    "oC, c1, a, oI = sympy.symbols('oC c_1 a oI')\n",
    "## Exogenous\n",
    "oG, oI, i = sympy.symbols('oG oI i')"
   ]
  },
  {
   "cell_type": "code",
   "execution_count": null,
   "metadata": {
    "autoscroll": false,
    "collapsed": false,
    "ein.tags": "worksheet-0",
    "slideshow": {
     "slide_type": "-"
    }
   },
   "outputs": [],
   "source": [
    "## Aktører\n",
    "### Husholdningero\n",
    "#### Konsumfunksjon\n",
    "CD = Eq(C,oC + c1*Y)\n",
    "### Bedrifter\n",
    "YS = Eq(Ys, Y)\n",
    "#### Investeringer\n",
    "ID = Eq(Id,oI + a*i)\n",
    "## Abc\n",
    "GD = Eq(G, oG)\n",
    "\n",
    "## Markeder\n",
    "### Varemarkedet\n",
    "EQV = Eq(Y, C + I + G)\n",
    "\n",
    "## Løsning av modellen\n",
    "AD = Eq(Y,solve(EQV.subs([(G, solve(GD, G)[0]),(C,solve(CD, C)[0]), (I, solve(ID, Id)[0])]), Y)[0])\n",
    "\n",
    "## Endringer\n",
    "\n",
    "## Stabiliseringspolitikk"
   ]
  },
  {
   "cell_type": "markdown",
   "metadata": {
    "ein.tags": "worksheet-0",
    "slideshow": {
     "slide_type": "-"
    }
   },
   "source": [
    "# Mundell-Fleming modellen under fast og flytende kurs"
   ]
  },
  {
   "cell_type": "code",
   "execution_count": null,
   "metadata": {
    "autoscroll": false,
    "collapsed": false,
    "ein.tags": "worksheet-0",
    "slideshow": {
     "slide_type": "-"
    }
   },
   "outputs": [],
   "source": [
    "# Declaring variables\n",
    "## Endogenous\n",
    "Y, C, I, G = sympy.symbols('Y C I G')\n",
    "Ys, Id = sympy.symbols('Y^s I^d')\n",
    "## Parameters\n",
    "oC, c1, a, oI = sympy.symbols('oC c_1 a oI')\n",
    "## Exogenous\n",
    "oG, oI, i = sympy.symbols('oG oI i')"
   ]
  },
  {
   "cell_type": "code",
   "execution_count": null,
   "metadata": {
    "autoscroll": false,
    "collapsed": false,
    "ein.tags": "worksheet-0",
    "slideshow": {
     "slide_type": "-"
    }
   },
   "outputs": [],
   "source": [
    "## Aktører\n",
    "### Husholdningero\n",
    "#### Konsumfunksjon\n",
    "CD = Eq(C,oC + c1*Y)\n",
    "### Bedrifter\n",
    "YS = Eq(Ys, Y)\n",
    "#### Investeringer\n",
    "ID = Eq(Id,oI + a*i)\n",
    "## Abc\n",
    "GD = Eq(G, oG)\n",
    "\n",
    "## Markeder\n",
    "### Varemarkedet\n",
    "EQV = Eq(Y, C + I + G)\n",
    "\n",
    "## Løsning av modellen\n",
    "AD = Eq(Y,solve(EQV.subs([(G, solve(GD, G)[0]),(C,solve(CD, C)[0]), (I, solve(ID, Id)[0])]), Y)[0])\n",
    "\n",
    "## Endringer\n",
    "\n",
    "## Stabiliseringspolitikk"
   ]
  },
  {
   "cell_type": "markdown",
   "metadata": {
    "ein.tags": "worksheet-0",
    "slideshow": {
     "slide_type": "-"
    }
   },
   "source": [
    "# AD-AS modellen for en åpen økonomi under fast og flytende kurs"
   ]
  },
  {
   "cell_type": "code",
   "execution_count": null,
   "metadata": {
    "autoscroll": false,
    "collapsed": false,
    "ein.tags": "worksheet-0",
    "slideshow": {
     "slide_type": "-"
    }
   },
   "outputs": [],
   "source": [
    "# Declaring variables\n",
    "## Endogenous\n",
    "Y, C, I, G = sympy.symbols('Y C I G')\n",
    "Ys, Id = sympy.symbols('Y^s I^d')\n",
    "## Parameters\n",
    "oC, c1, a, oI = sympy.symbols('oC c_1 a oI')\n",
    "## Exogenous\n",
    "oG, oI, i = sympy.symbols('oG oI i')"
   ]
  },
  {
   "cell_type": "code",
   "execution_count": null,
   "metadata": {
    "autoscroll": false,
    "collapsed": false,
    "ein.tags": "worksheet-0",
    "slideshow": {
     "slide_type": "-"
    }
   },
   "outputs": [],
   "source": [
    "## Aktører\n",
    "### Husholdningero\n",
    "#### Konsumfunksjon\n",
    "CD = Eq(C,oC + c1*Y)\n",
    "### Bedrifter\n",
    "YS = Eq(Ys, Y)\n",
    "#### Investeringer\n",
    "ID = Eq(Id,oI + a*i)\n",
    "## Abc\n",
    "GD = Eq(G, oG)\n",
    "\n",
    "## Markeder\n",
    "### Varemarkedet\n",
    "EQV = Eq(Y, C + I + G)\n",
    "\n",
    "## Løsning av modellen\n",
    "AD = Eq(Y,solve(EQV.subs([(G, solve(GD, G)[0]),(C,solve(CD, C)[0]), (I, solve(ID, Id)[0])]), Y)[0])\n",
    "\n",
    "## Endringer\n",
    "\n",
    "## Stabiliseringspolitikk"
   ]
  },
  {
   "cell_type": "code",
   "execution_count": null,
   "metadata": {
    "autoscroll": false,
    "collapsed": false,
    "ein.tags": "worksheet-0",
    "slideshow": {
     "slide_type": "-"
    }
   },
   "outputs": [],
   "source": []
  }
 ],
 "metadata": {
  "kernelspec": {
   "display_name": "Python 3",
   "name": "python3"
  },
  "language_info": {
   "codemirror_mode": {
    "name": "ipython",
    "version": 3
   },
   "file_extension": ".py",
   "mimetype": "text/x-python",
   "name": "python",
   "nbconvert_exporter": "python",
   "pygments_lexer": "ipython3",
   "version": "3.6.3"
  },
  "name": "OEKB1115_del1.py.ipynb"
 },
 "nbformat": 4,
 "nbformat_minor": 2
}
