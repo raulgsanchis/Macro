{
 "cells": [
  {
   "cell_type": "markdown",
   "metadata": {
    "ein.tags": "worksheet-0",
    "slideshow": {
     "slide_type": "-"
    }
   },
   "source": [
    "# Initiering"
   ]
  },
  {
   "cell_type": "code",
   "execution_count": 1,
   "metadata": {
    "autoscroll": false,
    "ein.tags": "worksheet-0",
    "slideshow": {
     "slide_type": "-"
    }
   },
   "outputs": [
    {
     "name": "stdout",
     "output_type": "stream",
     "text": [
      "Once deleted, variables cannot be recovered. Proceed (y/[n])? y\n"
     ]
    }
   ],
   "source": [
    "% reset\n",
    "# Initiering\n",
    "# Import packages\n",
    "import json\n",
    "import sympy\n",
    "import numpy\n",
    "import matplotlib.pyplot as plt\n",
    "from sympy import *\n",
    "from matplotlib.pyplot import *\n",
    "init_printing()"
   ]
  },
  {
   "cell_type": "markdown",
   "metadata": {
    "ein.tags": "worksheet-0",
    "slideshow": {
     "slide_type": "-"
    }
   },
   "source": [
    "# Enkel Keynes-modell"
   ]
  },
  {
   "cell_type": "code",
   "execution_count": 3,
   "metadata": {
    "autoscroll": false,
    "collapsed": true,
    "ein.tags": "worksheet-0",
    "slideshow": {
     "slide_type": "-"
    }
   },
   "outputs": [],
   "source": [
    "# Declaring variables\n",
    "## Endogenous\n",
    "Y, C, I, G = sympy.symbols('Y C I G')\n",
    "Ys, Id = sympy.symbols('Y^s I^d')\n",
    "## Parametere og konstantledd\n",
    "oC, c1, b, oI = sympy.symbols('oC c_1 a oI')\n",
    "## Exogene styringsvariable\n",
    "oG, i, T = sympy.symbols('oG i T')"
   ]
  },
  {
   "cell_type": "code",
   "execution_count": null,
   "metadata": {
    "collapsed": true
   },
   "outputs": [],
   "source": []
  },
  {
   "cell_type": "code",
   "execution_count": 4,
   "metadata": {
    "autoscroll": false,
    "collapsed": true,
    "ein.tags": "worksheet-0",
    "slideshow": {
     "slide_type": "-"
    }
   },
   "outputs": [],
   "source": [
    "beforems = set(dir())\n",
    "## Aktører\n",
    "### Husholdningero\n",
    "#### Konsumfunksjon\n",
    "CD = Eq(C,oC + c1*(Y-T))\n",
    "### Bedrifter\n",
    "YS = Eq(Ys, Y)\n",
    "#### Investeringer\n",
    "ID = Eq(Id,oI + b*i)\n",
    "## Offentlig myndigheter\n",
    "### Finansdepartementet\n",
    "GD = Eq(G, oG)\n",
    "## Markeder\n",
    "### Varemarkedet\n",
    "EQV = Eq(Y, C + I + G)\n",
    "\n",
    "## Løsning av modellen\n",
    "AD = Eq(Y,solve(EQV.subs([(G, solve(GD, G)[0]),(C,solve(CD, C)[0]), (I, solve(ID, Id)[0])]), Y)[0])\n",
    "afterms = set(dir())"
   ]
  },
  {
   "cell_type": "code",
   "execution_count": 5,
   "metadata": {},
   "outputs": [
    {
     "data": {
      "text/plain": [
       "['ID', 'AD', 'CD', 'GD', 'EQV', 'YS']"
      ]
     },
     "execution_count": 5,
     "metadata": {},
     "output_type": "execute_result"
    }
   ],
   "source": [
    "modvardict = list(afterms - beforems)\n",
    "modvardict.remove('beforems')\n",
    "#\n",
    "modlatequ = dict()\n",
    "modequ = dict()\n",
    "\n",
    "for teller in range(0,len(modvardict)):\n",
    "    eqvar = modvardict[teller]\n",
    "    modlatequ[eqvar] = latex(eval(modvardict[teller]))\n",
    "    modequ[eqvar] = str(eval(modvardict[teller]).rhs)\n",
    "   \n",
    "expdeftex = open('keynestex.json', 'w')\n",
    "json.dump(modlatequ,expdeftex)\n",
    "expdeftex.close()\n",
    "expdefequ = open('keynesequ.json', 'w')\n",
    "json.dump(modequ,expdefequ)\n",
    "expdefequ.close()\n",
    "modvardict"
   ]
  },
  {
   "cell_type": "code",
   "execution_count": 7,
   "metadata": {},
   "outputs": [
    {
     "ename": "SyntaxError",
     "evalue": "invalid syntax (<ipython-input-7-ef1e62c9ef69>, line 2)",
     "output_type": "error",
     "traceback": [
      "\u001b[0;36m  File \u001b[0;32m\"<ipython-input-7-ef1e62c9ef69>\"\u001b[0;36m, line \u001b[0;32m2\u001b[0m\n\u001b[0;31m    keynesequ <- rjson::fromJSON(file=paste0(devtools::as.package(\".\")$path,'/inst/webside/jupyter/keynesequ.json'))\u001b[0m\n\u001b[0m                       ^\u001b[0m\n\u001b[0;31mSyntaxError\u001b[0m\u001b[0;31m:\u001b[0m invalid syntax\n"
     ]
    }
   ],
   "source": [
    "library(ggplot2)\n",
    "keynesequ <- rjson::fromJSON(file=paste0(devtools::as.package(\".\")$path,'/inst/webside/jupyter/keynesequ.json'))\n",
    "#keynesequ\n",
    "\n",
    "\n",
    "zp1 <- qplot(geom = \"blank\") + coord_cartesian(xlim = 100, ylim = 100) +labs(title= 'Keynesian cross') + theme_classic()\n",
    "zp1"
   ]
  },
  {
   "cell_type": "markdown",
   "metadata": {
    "ein.tags": "worksheet-0",
    "slideshow": {
     "slide_type": "-"
    }
   },
   "source": [
    "# IS-LM modellen"
   ]
  },
  {
   "cell_type": "code",
   "execution_count": 28,
   "metadata": {
    "autoscroll": false,
    "collapsed": true,
    "ein.tags": "worksheet-0",
    "slideshow": {
     "slide_type": "-"
    }
   },
   "outputs": [],
   "source": [
    "# Declaring variables\n",
    "## Endogenous\n",
    "Y, C, I, G , i, L = sympy.symbols('Y C I G i L')\n",
    "Ys, Id = sympy.symbols('Y^s I^d')\n",
    "## Parametere og konstantledd\n",
    "oC, c1, b, oI, a1, a2 = sympy.symbols('oC c_1 a oI a_1 a_2')\n",
    "## Exogene styringsvariable\n",
    "oG, M, P = sympy.symbols('oG M P')"
   ]
  },
  {
   "cell_type": "code",
   "execution_count": 27,
   "metadata": {
    "autoscroll": false,
    "collapsed": true,
    "ein.tags": "worksheet-0",
    "slideshow": {
     "slide_type": "-"
    }
   },
   "outputs": [],
   "source": [
    "## Aktører\n",
    "### Husholdningene\n",
    "#### Konsumfunksjon\n",
    "CD = Eq(C,oC + c1*Y)\n",
    "#### Pengeetterspørsel\n",
    "MD = Eq(L,a1*i + a2*Y)\n",
    "### Bedrifter\n",
    "YS = Eq(Ys, Y)\n",
    "#### Investeringer\n",
    "ID = Eq(Id,oI + b*i)\n",
    "## Abc\n",
    "GD = Eq(G, oG)\n",
    "\n",
    "## Markeder\n",
    "### Varemarkedet\n",
    "EQV = Eq(Y, C + I + G)\n",
    "### Pengemarkedet\n",
    "EQM = Eq(M/P,L)\n",
    "\n",
    "## Løsning av modellen\n",
    "AD = Eq(Y,solve(EQV.subs([(G, solve(GD, G)[0]),(C,solve(CD, C)[0]), (I, solve(ID, Id)[0])]), Y)[0])\n",
    "\n",
    "#IS =\n",
    "#LM = EQ(Y,)"
   ]
  },
  {
   "cell_type": "markdown",
   "metadata": {
    "ein.tags": "worksheet-0",
    "slideshow": {
     "slide_type": "-"
    }
   },
   "source": [
    "# AD-AS modellen for en lukket økonomi"
   ]
  },
  {
   "cell_type": "code",
   "execution_count": null,
   "metadata": {
    "autoscroll": false,
    "collapsed": true,
    "ein.tags": "worksheet-0",
    "slideshow": {
     "slide_type": "-"
    }
   },
   "outputs": [],
   "source": [
    "# Declaring variables\n",
    "## Endogenous\n",
    "Y, C, I, G , i, L = sympy.symbols('Y C I G i L')\n",
    "Ys, Id = sympy.symbols('Y^s I^d')\n",
    "## Parametere og konstantledd\n",
    "oC, c1, b, oI, a1, a2 = sympy.symbols('oC c_1 a oI a_1 a_2')\n",
    "## Exogene styringsvariable\n",
    "oG, M, P = sympy.symbols('oG M P')"
   ]
  },
  {
   "cell_type": "code",
   "execution_count": null,
   "metadata": {
    "autoscroll": false,
    "collapsed": true,
    "ein.tags": "worksheet-0",
    "slideshow": {
     "slide_type": "-"
    }
   },
   "outputs": [],
   "source": [
    "## Aktører\n",
    "### Husholdningene\n",
    "#### Konsumfunksjon\n",
    "CD = Eq(C,oC + c1*Y)\n",
    "#### Pengeetterspørsel\n",
    "MD = Eq(L,a1*i + a2*Y)\n",
    "### Bedrifter\n",
    "YS = Eq(Ys, Y)\n",
    "#### Investeringer\n",
    "ID = Eq(Id,oI + b*i)\n",
    "## Abc\n",
    "GD = Eq(G, oG)\n",
    "\n",
    "## Markeder\n",
    "### Varemarkedet\n",
    "EQV = Eq(Y, C + I + G)\n",
    "### Pengemarkedet\n",
    "EQM = Eq(M/P,L)\n",
    "### Arbeidsmarkedet\n",
    "\n",
    "\n",
    "## Løsning av modellen\n",
    "AD = Eq(Y,solve(EQV.subs([(G, solve(GD, G)[0]),(C,solve(CD, C)[0]), (I, solve(ID, Id)[0])]), Y)[0])\n",
    "\n",
    "#IS =\n",
    "#LM = EQ(Y,)"
   ]
  },
  {
   "cell_type": "code",
   "execution_count": null,
   "metadata": {
    "autoscroll": false,
    "collapsed": true,
    "ein.tags": "worksheet-0",
    "slideshow": {
     "slide_type": "-"
    }
   },
   "outputs": [],
   "source": []
  },
  {
   "cell_type": "markdown",
   "metadata": {
    "ein.tags": "worksheet-0",
    "slideshow": {
     "slide_type": "-"
    }
   },
   "source": [
    "# Enkel Keynes-modell med internasjonal\n",
    "handel"
   ]
  },
  {
   "cell_type": "code",
   "execution_count": null,
   "metadata": {
    "autoscroll": false,
    "collapsed": true,
    "ein.tags": "worksheet-0",
    "slideshow": {
     "slide_type": "-"
    }
   },
   "outputs": [],
   "source": [
    "# Declaring variables\n",
    "## Endogenous\n",
    "Y, C, I, G, NX = sympy.symbols('Y C I G NX')\n",
    "Ys, Id = sympy.symbols('Y^s I^d')\n",
    "## Parametere og konstantledd\n",
    "oC, c1, b, oI = sympy.symbols('oC c_1 a oI')\n",
    "## Exogene styringsvariable\n",
    "oG, i = sympy.symbols('oG i')"
   ]
  },
  {
   "cell_type": "code",
   "execution_count": null,
   "metadata": {
    "autoscroll": false,
    "collapsed": true,
    "ein.tags": "worksheet-0",
    "slideshow": {
     "slide_type": "-"
    }
   },
   "outputs": [],
   "source": [
    "## Aktører\n",
    "### Husholdningero\n",
    "#### Konsumfunksjon\n",
    "CD = Eq(C,oC + c1*Y)\n",
    "### Bedrifter\n",
    "YS = Eq(Ys, Y)\n",
    "#### Investeringer\n",
    "ID = Eq(Id,oI + b*i)\n",
    "## Offentlig myndigheter\n",
    "### Finansdepartementet\n",
    "GD = Eq(G, oG)\n",
    "## Markeder\n",
    "### Varemarkedet\n",
    "EQV = Eq(Y, C + I + G + NX)\n",
    "\n",
    "\n",
    "\n",
    "## Løsning av modellen\n",
    "AD = Eq(Y,solve(EQV.subs([(G, solve(GD, G)[0]),(C,solve(CD, C)[0]), (I, solve(ID, Id)[0])]), Y)[0])"
   ]
  },
  {
   "cell_type": "markdown",
   "metadata": {
    "ein.tags": "worksheet-0",
    "slideshow": {
     "slide_type": "-"
    }
   },
   "source": [
    "# Mundell-Fleming modellen under fast og flytende kurs"
   ]
  },
  {
   "cell_type": "code",
   "execution_count": null,
   "metadata": {
    "autoscroll": false,
    "collapsed": true,
    "ein.tags": "worksheet-0",
    "slideshow": {
     "slide_type": "-"
    }
   },
   "outputs": [],
   "source": [
    "# Declaring variables\n",
    "## Endogenous\n",
    "Y, C, I, G = sympy.symbols('Y C I G')\n",
    "Ys, Id = sympy.symbols('Y^s I^d')\n",
    "## Parameters\n",
    "oC, c1, a, oI = sympy.symbols('oC c_1 a oI')\n",
    "## Exogenous\n",
    "oG, oI, i = sympy.symbols('oG oI i')"
   ]
  },
  {
   "cell_type": "code",
   "execution_count": null,
   "metadata": {
    "autoscroll": false,
    "collapsed": true,
    "ein.tags": "worksheet-0",
    "slideshow": {
     "slide_type": "-"
    }
   },
   "outputs": [],
   "source": [
    "## Aktører\n",
    "### Husholdningero\n",
    "#### Konsumfunksjon\n",
    "CD = Eq(C,oC + c1*Y)\n",
    "### Bedrifter\n",
    "YS = Eq(Ys, Y)\n",
    "#### Investeringer\n",
    "ID = Eq(Id,oI + a*i)\n",
    "## Abc\n",
    "GD = Eq(G, oG)\n",
    "\n",
    "## Markeder\n",
    "### Varemarkedet\n",
    "EQV = Eq(Y, C + I + G)\n",
    "\n",
    "## Løsning av modellen\n",
    "AD = Eq(Y,solve(EQV.subs([(G, solve(GD, G)[0]),(C,solve(CD, C)[0]), (I, solve(ID, Id)[0])]), Y)[0])\n",
    "\n",
    "## Endringer\n",
    "\n",
    "## Stabiliseringspolitikk"
   ]
  },
  {
   "cell_type": "markdown",
   "metadata": {
    "ein.tags": "worksheet-0",
    "slideshow": {
     "slide_type": "-"
    }
   },
   "source": [
    "# AD-AS modellen for en åpen økonomi under fast og flytende kurs"
   ]
  },
  {
   "cell_type": "code",
   "execution_count": null,
   "metadata": {
    "autoscroll": false,
    "collapsed": true,
    "ein.tags": "worksheet-0",
    "slideshow": {
     "slide_type": "-"
    }
   },
   "outputs": [],
   "source": [
    "# Declaring variables\n",
    "## Endogenous\n",
    "Y, C, I, G = sympy.symbols('Y C I G')\n",
    "Ys, Id = sympy.symbols('Y^s I^d')\n",
    "## Parameters\n",
    "oC, c1, a, oI = sympy.symbols('oC c_1 a oI')\n",
    "## Exogenous\n",
    "oG, oI, i = sympy.symbols('oG oI i')"
   ]
  },
  {
   "cell_type": "code",
   "execution_count": null,
   "metadata": {
    "autoscroll": false,
    "collapsed": true,
    "ein.tags": "worksheet-0",
    "slideshow": {
     "slide_type": "-"
    }
   },
   "outputs": [],
   "source": [
    "## Aktører\n",
    "### Husholdningero\n",
    "#### Konsumfunksjon\n",
    "CD = Eq(C,oC + c1*Y)\n",
    "### Bedrifter\n",
    "YS = Eq(Ys, Y)\n",
    "#### Investeringer\n",
    "ID = Eq(Id,oI + a*i)\n",
    "## Abc\n",
    "GD = Eq(G, oG)\n",
    "\n",
    "## Markeder\n",
    "### Varemarkedet\n",
    "EQV = Eq(Y, C + I + G)\n",
    "\n",
    "## Løsning av modellen\n",
    "AD = Eq(Y,solve(EQV.subs([(G, solve(GD, G)[0]),(C,solve(CD, C)[0]), (I, solve(ID, Id)[0])]), Y)[0])\n",
    "\n",
    "## Endringer\n",
    "\n",
    "## Stabiliseringspolitikk"
   ]
  },
  {
   "cell_type": "code",
   "execution_count": 1,
   "metadata": {
    "autoscroll": false,
    "ein.tags": "worksheet-0",
    "slideshow": {
     "slide_type": "-"
    }
   },
   "outputs": [
    {
     "data": {
      "text/html": [
       "<table>\n",
       "<thead><tr><th scope=col>Sepal.Length</th><th scope=col>Sepal.Width</th><th scope=col>Petal.Length</th><th scope=col>Petal.Width</th><th scope=col>Species</th></tr></thead>\n",
       "<tbody>\n",
       "\t<tr><td>5.1   </td><td>3.5   </td><td>1.4   </td><td>0.2   </td><td>setosa</td></tr>\n",
       "\t<tr><td>4.9   </td><td>3.0   </td><td>1.4   </td><td>0.2   </td><td>setosa</td></tr>\n",
       "\t<tr><td>4.7   </td><td>3.2   </td><td>1.3   </td><td>0.2   </td><td>setosa</td></tr>\n",
       "\t<tr><td>4.6   </td><td>3.1   </td><td>1.5   </td><td>0.2   </td><td>setosa</td></tr>\n",
       "\t<tr><td>5.0   </td><td>3.6   </td><td>1.4   </td><td>0.2   </td><td>setosa</td></tr>\n",
       "\t<tr><td>5.4   </td><td>3.9   </td><td>1.7   </td><td>0.4   </td><td>setosa</td></tr>\n",
       "</tbody>\n",
       "</table>\n"
      ],
      "text/latex": [
       "\\begin{tabular}{r|lllll}\n",
       " Sepal.Length & Sepal.Width & Petal.Length & Petal.Width & Species\\\\\n",
       "\\hline\n",
       "\t 5.1    & 3.5    & 1.4    & 0.2    & setosa\\\\\n",
       "\t 4.9    & 3.0    & 1.4    & 0.2    & setosa\\\\\n",
       "\t 4.7    & 3.2    & 1.3    & 0.2    & setosa\\\\\n",
       "\t 4.6    & 3.1    & 1.5    & 0.2    & setosa\\\\\n",
       "\t 5.0    & 3.6    & 1.4    & 0.2    & setosa\\\\\n",
       "\t 5.4    & 3.9    & 1.7    & 0.4    & setosa\\\\\n",
       "\\end{tabular}\n"
      ],
      "text/plain": [
       "  Sepal.Length Sepal.Width Petal.Length Petal.Width Species\n",
       "1 5.1          3.5         1.4          0.2         setosa \n",
       "2 4.9          3.0         1.4          0.2         setosa \n",
       "3 4.7          3.2         1.3          0.2         setosa \n",
       "4 4.6          3.1         1.5          0.2         setosa \n",
       "5 5.0          3.6         1.4          0.2         setosa \n",
       "6 5.4          3.9         1.7          0.4         setosa "
      ]
     },
     "metadata": {},
     "output_type": "display_data"
    },
    {
     "data": {
      "text/html": [
       "<pre class=language-r><code>function (x, freq = NULL, type = c(\"lambda\", \"frequency\"), drift = FALSE) \n",
       "{\n",
       "<span style=white-space:pre-wrap>    if (is.null(drift)) </span>\n",
       "<span style=white-space:pre-wrap>        drift &lt;- FALSE</span>\n",
       "<span style=white-space:pre-wrap>    xname = deparse(substitute(x))</span>\n",
       "<span style=white-space:pre-wrap>    type = match.arg(type)</span>\n",
       "<span style=white-space:pre-wrap>    if (is.null(type)) </span>\n",
       "<span style=white-space:pre-wrap>        type &lt;- \"lambda\"</span>\n",
       "<span style=white-space:pre-wrap>    if (is.ts(x)) {</span>\n",
       "<span style=white-space:pre-wrap>        tsp.x &lt;- tsp(x)</span>\n",
       "<span style=white-space:pre-wrap>        frq.x &lt;- frequency(x)</span>\n",
       "<span style=white-space:pre-wrap>        if (type == \"lambda\") {</span>\n",
       "<span style=white-space:pre-wrap>            if (is.null(freq)) {</span>\n",
       "<span style=white-space:pre-wrap>                if (frq.x == 1) </span>\n",
       "<span style=white-space:pre-wrap>                  lambda = 6</span>\n",
       "<span style=white-space:pre-wrap>                if (frq.x == 4) </span>\n",
       "<span style=white-space:pre-wrap>                  lambda = 1600</span>\n",
       "<span style=white-space:pre-wrap>                if (frq.x == 12) </span>\n",
       "<span style=white-space:pre-wrap>                  lambda = 129600</span>\n",
       "<span style=white-space:pre-wrap>            }</span>\n",
       "<span style=white-space:pre-wrap>            else lambda = freq</span>\n",
       "<span style=white-space:pre-wrap>        }</span>\n",
       "<span style=white-space:pre-wrap>    }</span>\n",
       "<span style=white-space:pre-wrap>    else {</span>\n",
       "<span style=white-space:pre-wrap>        if (type == \"lambda\") {</span>\n",
       "<span style=white-space:pre-wrap>            if (is.null(freq)) </span>\n",
       "<span style=white-space:pre-wrap>                stop(\"freq is NULL\")</span>\n",
       "<span style=white-space:pre-wrap>            else lambda = freq</span>\n",
       "<span style=white-space:pre-wrap>        }</span>\n",
       "<span style=white-space:pre-wrap>    }</span>\n",
       "<span style=white-space:pre-wrap>    if (type == \"frequency\") {</span>\n",
       "<span style=white-space:pre-wrap>        if (is.null(freq)) </span>\n",
       "<span style=white-space:pre-wrap>            stop(\"freq is NULL\")</span>\n",
       "<span style=white-space:pre-wrap>        else lambda = (2 * sin(pi/freq))^-4</span>\n",
       "<span style=white-space:pre-wrap>    }</span>\n",
       "<span style=white-space:pre-wrap>    xo = x</span>\n",
       "<span style=white-space:pre-wrap>    x = as.matrix(x)</span>\n",
       "<span style=white-space:pre-wrap>    if (drift) </span>\n",
       "<span style=white-space:pre-wrap>        x = undrift(x)</span>\n",
       "<span style=white-space:pre-wrap>    n = length(x)</span>\n",
       "<span style=white-space:pre-wrap>    imat = diag(n)</span>\n",
       "<span style=white-space:pre-wrap>    Ln = rbind(matrix(0, 1, n), diag(1, n - 1, n))</span>\n",
       "<span style=white-space:pre-wrap>    Ln = (imat - Ln) %*% (imat - Ln)</span>\n",
       "<span style=white-space:pre-wrap>    Q = t(Ln[3:n, ])</span>\n",
       "<span style=white-space:pre-wrap>    SIGMA.R = t(Q) %*% Q</span>\n",
       "<span style=white-space:pre-wrap>    SIGMA.n = diag(n - 2)</span>\n",
       "<span style=white-space:pre-wrap>    g = t(Q) %*% as.matrix(x)</span>\n",
       "<span style=white-space:pre-wrap>    b = solve(SIGMA.n + lambda * SIGMA.R, g)</span>\n",
       "<span style=white-space:pre-wrap>    x.cycle = c(lambda * Q %*% b)</span>\n",
       "<span style=white-space:pre-wrap>    x.trend = x - x.cycle</span>\n",
       "<span style=white-space:pre-wrap>    if (is.ts(xo)) {</span>\n",
       "<span style=white-space:pre-wrap>        tsp.x = tsp(xo)</span>\n",
       "<span style=white-space:pre-wrap>        x.cycle = ts(x.cycle, star = tsp.x[1], frequency = tsp.x[3])</span>\n",
       "<span style=white-space:pre-wrap>        x.trend = ts(x.trend, star = tsp.x[1], frequency = tsp.x[3])</span>\n",
       "<span style=white-space:pre-wrap>        x = ts(x, star = tsp.x[1], frequency = tsp.x[3])</span>\n",
       "<span style=white-space:pre-wrap>    }</span>\n",
       "<span style=white-space:pre-wrap>    A = lambda * Q %*% solve(SIGMA.n + lambda * SIGMA.R) %*% </span>\n",
       "<span style=white-space:pre-wrap>        t(Q)</span>\n",
       "<span style=white-space:pre-wrap>    res &lt;- list(cycle = x.cycle, trend = x.trend, fmatrix = A, </span>\n",
       "<span style=white-space:pre-wrap>        title = \"Hodrick-Prescott Filter\", xname = xname, call = as.call(match.call()), </span>\n",
       "<span style=white-space:pre-wrap>        type = type, lambda = lambda, method = \"hpfilter\", x = x)</span>\n",
       "<span style=white-space:pre-wrap>    return(structure(res, class = \"mFilter\"))</span>\n",
       "}</code></pre>"
      ],
      "text/latex": [
       "\\begin{minted}{r}\n",
       "function (x, freq = NULL, type = c(\"lambda\", \"frequency\"), drift = FALSE) \n",
       "\\{\n",
       "    if (is.null(drift)) \n",
       "        drift <- FALSE\n",
       "    xname = deparse(substitute(x))\n",
       "    type = match.arg(type)\n",
       "    if (is.null(type)) \n",
       "        type <- \"lambda\"\n",
       "    if (is.ts(x)) \\{\n",
       "        tsp.x <- tsp(x)\n",
       "        frq.x <- frequency(x)\n",
       "        if (type == \"lambda\") \\{\n",
       "            if (is.null(freq)) \\{\n",
       "                if (frq.x == 1) \n",
       "                  lambda = 6\n",
       "                if (frq.x == 4) \n",
       "                  lambda = 1600\n",
       "                if (frq.x == 12) \n",
       "                  lambda = 129600\n",
       "            \\}\n",
       "            else lambda = freq\n",
       "        \\}\n",
       "    \\}\n",
       "    else \\{\n",
       "        if (type == \"lambda\") \\{\n",
       "            if (is.null(freq)) \n",
       "                stop(\"freq is NULL\")\n",
       "            else lambda = freq\n",
       "        \\}\n",
       "    \\}\n",
       "    if (type == \"frequency\") \\{\n",
       "        if (is.null(freq)) \n",
       "            stop(\"freq is NULL\")\n",
       "        else lambda = (2 * sin(pi/freq))\\textasciicircum{}-4\n",
       "    \\}\n",
       "    xo = x\n",
       "    x = as.matrix(x)\n",
       "    if (drift) \n",
       "        x = undrift(x)\n",
       "    n = length(x)\n",
       "    imat = diag(n)\n",
       "    Ln = rbind(matrix(0, 1, n), diag(1, n - 1, n))\n",
       "    Ln = (imat - Ln) \\%*\\% (imat - Ln)\n",
       "    Q = t(Ln{[}3:n, {]})\n",
       "    SIGMA.R = t(Q) \\%*\\% Q\n",
       "    SIGMA.n = diag(n - 2)\n",
       "    g = t(Q) \\%*\\% as.matrix(x)\n",
       "    b = solve(SIGMA.n + lambda * SIGMA.R, g)\n",
       "    x.cycle = c(lambda * Q \\%*\\% b)\n",
       "    x.trend = x - x.cycle\n",
       "    if (is.ts(xo)) \\{\n",
       "        tsp.x = tsp(xo)\n",
       "        x.cycle = ts(x.cycle, star = tsp.x{[}1{]}, frequency = tsp.x{[}3{]})\n",
       "        x.trend = ts(x.trend, star = tsp.x{[}1{]}, frequency = tsp.x{[}3{]})\n",
       "        x = ts(x, star = tsp.x{[}1{]}, frequency = tsp.x{[}3{]})\n",
       "    \\}\n",
       "    A = lambda * Q \\%*\\% solve(SIGMA.n + lambda * SIGMA.R) \\%*\\% \n",
       "        t(Q)\n",
       "    res <- list(cycle = x.cycle, trend = x.trend, fmatrix = A, \n",
       "        title = \"Hodrick-Prescott Filter\", xname = xname, call = as.call(match.call()), \n",
       "        type = type, lambda = lambda, method = \"hpfilter\", x = x)\n",
       "    return(structure(res, class = \"mFilter\"))\n",
       "\\}\n",
       "\\end{minted}"
      ],
      "text/plain": [
       "function (x, freq = NULL, type = c(\"lambda\", \"frequency\"), drift = FALSE) \n",
       "{\n",
       "    if (is.null(drift)) \n",
       "        drift <- FALSE\n",
       "    xname = deparse(substitute(x))\n",
       "    type = match.arg(type)\n",
       "    if (is.null(type)) \n",
       "        type <- \"lambda\"\n",
       "    if (is.ts(x)) {\n",
       "        tsp.x <- tsp(x)\n",
       "        frq.x <- frequency(x)\n",
       "        if (type == \"lambda\") {\n",
       "            if (is.null(freq)) {\n",
       "                if (frq.x == 1) \n",
       "                  lambda = 6\n",
       "                if (frq.x == 4) \n",
       "                  lambda = 1600\n",
       "                if (frq.x == 12) \n",
       "                  lambda = 129600\n",
       "            }\n",
       "            else lambda = freq\n",
       "        }\n",
       "    }\n",
       "    else {\n",
       "        if (type == \"lambda\") {\n",
       "            if (is.null(freq)) \n",
       "                stop(\"freq is NULL\")\n",
       "            else lambda = freq\n",
       "        }\n",
       "    }\n",
       "    if (type == \"frequency\") {\n",
       "        if (is.null(freq)) \n",
       "            stop(\"freq is NULL\")\n",
       "        else lambda = (2 * sin(pi/freq))^-4\n",
       "    }\n",
       "    xo = x\n",
       "    x = as.matrix(x)\n",
       "    if (drift) \n",
       "        x = undrift(x)\n",
       "    n = length(x)\n",
       "    imat = diag(n)\n",
       "    Ln = rbind(matrix(0, 1, n), diag(1, n - 1, n))\n",
       "    Ln = (imat - Ln) %*% (imat - Ln)\n",
       "    Q = t(Ln[3:n, ])\n",
       "    SIGMA.R = t(Q) %*% Q\n",
       "    SIGMA.n = diag(n - 2)\n",
       "    g = t(Q) %*% as.matrix(x)\n",
       "    b = solve(SIGMA.n + lambda * SIGMA.R, g)\n",
       "    x.cycle = c(lambda * Q %*% b)\n",
       "    x.trend = x - x.cycle\n",
       "    if (is.ts(xo)) {\n",
       "        tsp.x = tsp(xo)\n",
       "        x.cycle = ts(x.cycle, star = tsp.x[1], frequency = tsp.x[3])\n",
       "        x.trend = ts(x.trend, star = tsp.x[1], frequency = tsp.x[3])\n",
       "        x = ts(x, star = tsp.x[1], frequency = tsp.x[3])\n",
       "    }\n",
       "    A = lambda * Q %*% solve(SIGMA.n + lambda * SIGMA.R) %*% \n",
       "        t(Q)\n",
       "    res <- list(cycle = x.cycle, trend = x.trend, fmatrix = A, \n",
       "        title = \"Hodrick-Prescott Filter\", xname = xname, call = as.call(match.call()), \n",
       "        type = type, lambda = lambda, method = \"hpfilter\", x = x)\n",
       "    return(structure(res, class = \"mFilter\"))\n",
       "}\n",
       "<environment: namespace:mFilter>"
      ]
     },
     "metadata": {},
     "output_type": "display_data"
    },
    {
     "data": {
      "text/html": [
       "'/home/joernih/gitclones/teaching/MakroOEKB1115'"
      ],
      "text/latex": [
       "'/home/joernih/gitclones/teaching/MakroOEKB1115'"
      ],
      "text/plain": [
       "[1] \"/home/joernih/gitclones/teaching/MakroOEKB1115\""
      ]
     },
     "metadata": {},
     "output_type": "display_data"
    }
   ],
   "source": [
    "library(ggplot2)\n",
    "library(devtools)\n",
    "\n",
    "head(iris)\n",
    "library(mFilter)\n",
    "\n",
    "\n",
    "\n",
    "mFilter::hpfilter\n",
    "\n",
    "\n",
    "#hp <- hpfilter(gdp[,2],freq=1600)$cycle # Apply filter and obtain data of the cycle compontent\n",
    "# Plot\n",
    "#dat <- cbind(dat,data.frame(\"Hodrick.Prescott\"=hp))\n",
    "#g <- melt(dat[,c(1,4,3)],id.vars=\"Time\",na.rm=TRUE)\n",
    "#levels(g[,2]) <- c(\"Hodrick Prescott\",\"Linearly Detrended\")\n",
    "#plot.cycles(g,\"Hodrick Prescott vs. Linearly Detrended\")\n",
    "\n",
    "devtools::as.package(\".\")$path\n",
    "#getwd()"
   ]
  },
  {
   "cell_type": "markdown",
   "metadata": {
    "ein.tags": "worksheet-0",
    "slideshow": {
     "slide_type": "-"
    }
   },
   "source": [
    "# Test\n",
    "[abc](www.vg.no)"
   ]
  }
 ],
 "metadata": {
  "kernelspec": {
   "display_name": "Python 3",
   "language": "python",
   "name": "python3"
  },
  "language_info": {
   "codemirror_mode": {
    "name": "ipython",
    "version": 3
   },
   "file_extension": ".py",
   "mimetype": "text/x-python",
   "name": "python",
   "nbconvert_exporter": "python",
   "pygments_lexer": "ipython3",
   "version": "3.6.3"
  },
  "name": "OEKB1115_del1.py.ipynb"
 },
 "nbformat": 4,
 "nbformat_minor": 2
}
