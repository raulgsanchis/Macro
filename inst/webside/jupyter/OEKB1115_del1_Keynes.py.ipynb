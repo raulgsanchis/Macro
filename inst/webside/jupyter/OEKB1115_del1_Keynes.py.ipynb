{
 "cells": [
  {
   "cell_type": "markdown",
   "metadata": {
    "ein.tags": "worksheet-0",
    "slideshow": {
     "slide_type": "-"
    }
   },
   "source": [
    "# Initiering"
   ]
  },
  {
   "cell_type": "code",
   "execution_count": 1,
   "metadata": {
    "autoscroll": false,
    "ein.tags": "worksheet-0",
    "slideshow": {
     "slide_type": "-"
    }
   },
   "outputs": [
    {
     "name": "stdout",
     "output_type": "stream",
     "text": [
      "Once deleted, variables cannot be recovered. Proceed (y/[n])? y\n"
     ]
    }
   ],
   "source": [
    "% reset\n",
    "# Initiering\n",
    "# Import packages\n",
    "import json\n",
    "import sympy\n",
    "import numpy\n",
    "import matplotlib.pyplot as plt\n",
    "from sympy import *\n",
    "from matplotlib.pyplot import *\n",
    "init_printing()"
   ]
  },
  {
   "cell_type": "markdown",
   "metadata": {
    "ein.tags": "worksheet-0",
    "slideshow": {
     "slide_type": "-"
    }
   },
   "source": [
    "# Enkel Keynes-modell"
   ]
  },
  {
   "cell_type": "code",
   "execution_count": 2,
   "metadata": {
    "autoscroll": false,
    "ein.tags": "worksheet-0",
    "slideshow": {
     "slide_type": "-"
    }
   },
   "outputs": [],
   "source": [
    "# Declaring variables\n",
    "## Endogenous\n",
    "Y, C, I, G ,IDpGD,  IDpGDpCD = sympy.symbols('Y C I G IDpGD IDpGDpCD')\n",
    "Ys, Id = sympy.symbols('Y^s I^d')\n",
    "## Parametere og konstantledd\n",
    "oC, c1, b, oI = sympy.symbols('oC c_1 b oI')\n",
    "## Exogene styringsvariable\n",
    "oG, i, T = sympy.symbols('oG i T')"
   ]
  },
  {
   "cell_type": "code",
   "execution_count": 3,
   "metadata": {
    "autoscroll": false,
    "ein.tags": "worksheet-0",
    "slideshow": {
     "slide_type": "-"
    }
   },
   "outputs": [],
   "source": [
    "beforems = set(dir())\n",
    "## Markeder\n",
    "### Varemarkedet\n",
    "EQV = Eq(Y, C + I + G)\n",
    "## Aktører\n",
    "### Husholdningero\n",
    "#### Konsumfunksjonen\n",
    "CD = Eq(C,oC + c1*(Y-T))\n",
    "### Bedrifter\n",
    "YS = Eq(Ys, Y)\n",
    "#### Investeringer\n",
    "ID = Eq(Id,oI + b*i)\n",
    "## Offentlig myndigheter\n",
    "### Finansdepartementet\n",
    "GD = Eq(G, oG)\n",
    "#\n",
    "IDPGD = Eq(IDpGD, solve(ID,Id)[0]+ solve(GD,G)[0])\n",
    "IDPGDPCD = Eq(IDpGDpCD, solve(CD,C)[0] + solve(ID,Id)[0]+ solve(GD,G)[0])\n",
    "\n",
    "## Løsning av modellen\n",
    "AD = Eq(Y,solve(EQV.subs([(G, solve(GD, G)[0]),(C,solve(CD, C)[0]), (I, solve(ID, Id)[0])]), Y)[0])\n",
    "afterms = set(dir())"
   ]
  },
  {
   "cell_type": "code",
   "execution_count": 4,
   "metadata": {
    "autoscroll": false,
    "ein.tags": "worksheet-0",
    "slideshow": {
     "slide_type": "-"
    }
   },
   "outputs": [
    {
     "data": {
      "text/plain": [
       "['CD', 'AD', 'EQV', 'ID', 'YS', 'GD', 'IDPGDPCD', 'IDPGD']"
      ]
     },
     "execution_count": 4,
     "metadata": {},
     "output_type": "execute_result"
    }
   ],
   "source": [
    "modvardict = list(afterms - beforems)\n",
    "modvardict.remove('beforems')\n",
    "#\n",
    "modlatequ = dict()\n",
    "modequ = dict()\n",
    "\n",
    "for teller in range(0,len(modvardict)):\n",
    "    eqvar = modvardict[teller]\n",
    "    modlatequ[eqvar] = latex(eval(modvardict[teller]))\n",
    "    modequ[eqvar] = str(eval(modvardict[teller]).rhs)\n",
    "   \n",
    "expdeftex = open('keynestex.json', 'w')\n",
    "json.dump(modlatequ,expdeftex)\n",
    "expdeftex.close()\n",
    "expdefequ = open('keynesequ.json', 'w')\n",
    "json.dump(modequ,expdefequ)\n",
    "expdefequ.close()\n",
    "modvardict"
   ]
  }
 ],
 "metadata": {
  "kernelspec": {
   "display_name": "Python 3",
   "language": "python",
   "name": "python3"
  },
  "language_info": {
   "codemirror_mode": {
    "name": "ipython",
    "version": 3
   },
   "file_extension": ".py",
   "mimetype": "text/x-python",
   "name": "python",
   "nbconvert_exporter": "python",
   "pygments_lexer": "ipython3",
   "version": "3.6.3"
  },
  "name": "OEKB1115_del1_Keynes.py.ipynb"
 },
 "nbformat": 4,
 "nbformat_minor": 2
}
