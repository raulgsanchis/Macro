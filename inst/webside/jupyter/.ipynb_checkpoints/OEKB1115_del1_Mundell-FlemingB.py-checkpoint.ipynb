{
 "cells": [
  {
   "cell_type": "markdown",
   "metadata": {
    "ein.tags": "worksheet-0",
    "slideshow": {
     "slide_type": "-"
    }
   },
   "source": [
    "# Initiering"
   ]
  },
  {
   "cell_type": "code",
   "execution_count": 16,
   "metadata": {
    "autoscroll": false,
    "ein.tags": "worksheet-0",
    "slideshow": {
     "slide_type": "-"
    }
   },
   "outputs": [
    {
     "name": "stdout",
     "output_type": "stream",
     "text": [
      "Once deleted, variables cannot be recovered. Proceed (y/[n])? y\n"
     ]
    }
   ],
   "source": [
    "% reset\n",
    "# Initiering\n",
    "# Import packages\n",
    "import json\n",
    "import sympy\n",
    "import numpy\n",
    "import matplotlib.pyplot as plt\n",
    "from sympy import *\n",
    "from matplotlib.pyplot import *\n",
    "init_printing()"
   ]
  },
  {
   "cell_type": "markdown",
   "metadata": {
    "ein.tags": "worksheet-0",
    "slideshow": {
     "slide_type": "-"
    }
   },
   "source": [
    "# Mundell-Fleming modellen"
   ]
  },
  {
   "cell_type": "code",
   "execution_count": 28,
   "metadata": {
    "autoscroll": false,
    "ein.tags": "worksheet-0",
    "slideshow": {
     "slide_type": "-"
    }
   },
   "outputs": [],
   "source": [
    "# Declaring variables\n",
    "## Endogenous\n",
    "Y, C, I, G, Ld, Ms, P, M, NX, R, IM, EX, E = sympy.symbols('Y C I G L_d M_s  P M NX R IM EX E')\n",
    "## Parametere og konstantledd\n",
    "oC, c1, b, oI, k, h, t, m, m1, m2, x1, x2, P, Ps = sympy.symbols('oC c_1 b oI k h t m m1 m2 x1 x2 P Ps')\n",
    "## Exogene styringsvariableh\n",
    "oG, i, T, Ys, rp, i_s = sympy.symbols('oG i T Ys rp i_s')"
   ]
  },
  {
   "cell_type": "code",
   "execution_count": 38,
   "metadata": {
    "autoscroll": false,
    "collapsed": true,
    "ein.tags": "worksheet-0",
    "slideshow": {
     "slide_type": "-"
    }
   },
   "outputs": [],
   "source": [
    "beforems = set(dir())\n",
    "## Markeder\n",
    "### Varemarkedet\n",
    "EQV = Eq(Y, C + I + G + NX)\n",
    "### Pengemarkedet\n",
    "EQM = Eq(Ld, Ms)\n",
    "\n",
    "## Aktører\n",
    "### Husholdningero\n",
    "#### Konsumfunksjon\n",
    "CD = Eq(C,oC + c1*(Y-T))\n",
    "CDI = Eq(IM, -m1*R - m2*Y)\n",
    "\n",
    "#### Pengeetterspørsel\n",
    "LD = Eq(Ld,k*Y-h*i)\n",
    "### Bedrifter\n",
    "#YS = Eq(Ys, Y)\n",
    "YSE = Eq(EX, x1*R + x2*Ys)\n",
    "\n",
    "#### Investeringer\n",
    "ID = Eq(Id,oI - b*i)\n",
    "\n",
    "### Offentlig myndigheter\n",
    "GD = Eq(G, oG)\n",
    "TR = Eq(T, t*Y)\n",
    "### Sentralbanken\n",
    "MS = Eq(Ms,M)\n",
    "\n",
    "## Offentlig markeder\n",
    "### Varemarkedet\n",
    "EQV = Eq(Y, C + I + G + NX)\n",
    "### Pengemarkedet\n",
    "EQM = Eq(Ld, Ms)\n",
    "### Valutakursmarkedet\n",
    "EQU = Eq(i,i_s + rp)\n",
    "\n",
    "### Definisjoner\n",
    "DNX = Eq(NX, EX + IM)\n",
    "DRE = Eq(R,(E*Ps)/P)\n",
    "\n",
    "RNX = DNX.subs([(EX, solve(CDI.subs([(R,solve(DRE,R)[0])]), IM) [0]\n",
    "),(IM, solve(YSE.subs([(R,solve(DRE,R)[0])]), EX)[0])])\n",
    "\n",
    "## Løsning av modellen\n",
    "## IS\n",
    "ISC = Eq(Y,solve(EQV.subs([(G, solve(GD, G)[0]),(C,solve(CD, C)[0]), (I, solve(ID, Id)[0]), (NX, solve(RNX, NX)[0])]), Y)[0])\n",
    "## LM\n",
    "LMC = Eq(Y,solve(EQM.subs([(Ms, solve(MS,Ms)[0]),(Ld,solve(LD,Ld)[0])]),Y)[0])\n",
    "## BP-fast kurs\n",
    "BPCFA = Eq(i,i_s + rp)\n",
    "## BP-fast kurs\n",
    "BPCFL = Eq(i,i_s + rp)\n",
    "## Likvekt \n",
    "SEQi=Eq(i,solve(LMC.subs(Y,solve(ISC,Y)[0]),i)[0])\n",
    "SEQY=Eq(Y,solve(ISC.subs(i,solve(LMC,i)[0]),Y)[0])\n",
    "afterms = set(dir())"
   ]
  },
  {
   "cell_type": "code",
   "execution_count": 37,
   "metadata": {},
   "outputs": [
    {
     "data": {
      "image/png": "[encoded data removed]",
      "text/latex": [
       "$$Y = \\frac{1}{k} \\left(M + h \\left(i_{s} + rp\\right)\\right)$$"
      ],
      "text/plain": [
       "    M + h⋅(iₛ + rp)\n",
       "Y = ───────────────\n",
       "           k       "
      ]
     },
     "execution_count": 37,
     "metadata": {},
     "output_type": "execute_result"
    }
   ],
   "source": [
    "#LMC.subs(i,solve(EQU,i)[0])"
   ]
  },
  {
   "cell_type": "code",
   "execution_count": 4,
   "metadata": {},
   "outputs": [
    {
     "data": {
      "text/plain": [
       "['LMC',\n",
       " 'DNX',\n",
       " 'LD',\n",
       " 'SEQi',\n",
       " 'ID',\n",
       " 'RNX',\n",
       " 'MS',\n",
       " 'TR',\n",
       " 'CDI',\n",
       " 'EQV',\n",
       " 'ISC',\n",
       " 'GD',\n",
       " 'YSE',\n",
       " 'EQM',\n",
       " 'CD',\n",
       " 'DRE',\n",
       " 'SEQY']"
      ]
     },
     "execution_count": 4,
     "metadata": {},
     "output_type": "execute_result"
    }
   ],
   "source": [
    "modvardict = list(afterms - beforems)\n",
    "modvardict.remove('beforems')\n",
    "#\n",
    "modlatequ = dict()\n",
    "modequ = dict()\n",
    "\n",
    "for teller in range(0,len(modvardict)):\n",
    "    eqvar = modvardict[teller]\n",
    "    modlatequ[eqvar] = latex(eval(modvardict[teller]))\n",
    "    modequ[eqvar] = str(eval(modvardict[teller]).rhs)\n",
    "   \n",
    "expdeftex = open('islmoctex.json', 'w')\n",
    "json.dump(modlatequ,expdeftex)\n",
    "expdeftex.close()\n",
    "expdefequ = open('islmocequ.json', 'w')\n",
    "json.dump(modequ,expdefequ)\n",
    "expdefequ.close()\n",
    "modvardict"
   ]
  }
 ],
 "metadata": {
  "kernelspec": {
   "display_name": "Python 3",
   "language": "python",
   "name": "python3"
  },
  "language_info": {
   "codemirror_mode": {
    "name": "ipython",
    "version": 3
   },
   "file_extension": ".py",
   "mimetype": "text/x-python",
   "name": "python",
   "nbconvert_exporter": "python",
   "pygments_lexer": "ipython3",
   "version": "3.6.3"
  },
  "name": "OEKB1115_del1.py.ipynb"
 },
 "nbformat": 4,
 "nbformat_minor": 2
}
