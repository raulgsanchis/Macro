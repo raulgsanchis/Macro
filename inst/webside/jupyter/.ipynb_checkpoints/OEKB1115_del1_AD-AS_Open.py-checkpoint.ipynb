{
 "cells": [
  {
   "cell_type": "markdown",
   "metadata": {
    "ein.tags": "worksheet-0",
    "slideshow": {
     "slide_type": "-"
    }
   },
   "source": [
    "# Initiering"
   ]
  },
  {
   "cell_type": "code",
   "execution_count": 1,
   "metadata": {
    "autoscroll": false,
    "ein.tags": "worksheet-0",
    "slideshow": {
     "slide_type": "-"
    }
   },
   "outputs": [
    {
     "name": "stdout",
     "output_type": "stream",
     "text": [
      "Once deleted, variables cannot be recovered. Proceed (y/[n])? y\n"
     ]
    }
   ],
   "source": [
    "% reset\n",
    "# Initiering\n",
    "# Import packages\n",
    "import json\n",
    "import sympy\n",
    "import numpy\n",
    "import matplotlib.pyplot as plt\n",
    "from sympy import *\n",
    "from matplotlib.pyplot import *\n",
    "init_printing()"
   ]
  },
  {
   "cell_type": "markdown",
   "metadata": {
    "ein.tags": "worksheet-0",
    "slideshow": {
     "slide_type": "-"
    }
   },
   "source": [
    "# AD-AS modellen"
   ]
  },
  {
   "cell_type": "code",
   "execution_count": 2,
   "metadata": {
    "autoscroll": false,
    "collapsed": true,
    "ein.tags": "worksheet-0",
    "slideshow": {
     "slide_type": "-"
    }
   },
   "outputs": [],
   "source": [
    "# Declaring variables\n",
    "## Endogenous\n",
    "Y, C, I, G, Ld, Ms, P, M, NX, R, IM, EX, E, Ee, W, u, L, N = sympy.symbols('Y C I G L_d M_s  P M NX R IM EX E Ee W u L N')\n",
    "## Parametere og konstantledd\n",
    "oC, c1, b, oI, k, h, t, m, m1, m2, x1, x2, P, Ps, l1, l2, mu, alpha, A, Ac = sympy.symbols('oC c_1 b oI k h t m m1 m2 x1 x2 P Ps l_1 l_2 mu alpha A Ac')\n",
    "## Exogene styringsvariableh\n",
    "oG, i, T, Ys, rp, i_s, Pe, z = sympy.symbols('oG i T Ys rp i_s Pe z')"
   ]
  },
  {
   "cell_type": "code",
   "execution_count": 3,
   "metadata": {
    "autoscroll": false,
    "collapsed": true,
    "ein.tags": "worksheet-0",
    "slideshow": {
     "slide_type": "-"
    }
   },
   "outputs": [],
   "source": [
    "beforems = set(dir())\n",
    "## Markeder\n",
    "### Varemarkedet\n",
    "EQV = Eq(Y, C + I + G + NX)\n",
    "### Pengemarkedet\n",
    "EQM = Eq(Ld, Ms)\n",
    "### Valutakursmarkedet\n",
    "EQU = Eq((1+i),(1+i_s)*(Ee/E))\n",
    "#### Tilbud av arbeidskraft\n",
    "#LS = Eq(W,Pe*(l1*u + l2*z))\n",
    "LS = Eq(W,Pe*(Ac+l1*u))\n",
    "\n",
    "## Aktører\n",
    "### Husholdningero\n",
    "#### Konsumfunksjon\n",
    "CD = Eq(C,oC + c1*(Y-T))\n",
    "CDI = Eq(IM, -m1*R + m2*Y)\n",
    "#### Pengeetterspørsel\n",
    "LD = Eq(Ld,k*Y-h*i)\n",
    "### Bedrifter\n",
    "YS = Eq(Ys, Y)\n",
    "PF = Eq(Y, A*L*alpha)\n",
    "PS = Eq(P, (1+mu)*W)\n",
    "YSE = Eq(EX, x1*R + x2*Ys)\n",
    "#### Investeringer\n",
    "ID = Eq(Id,oI - b*i)\n",
    "### Offentlig myndigheter\n",
    "GD = Eq(G, oG)\n",
    "TR = Eq(T, t*Y)\n",
    "### Sentralbanken\n",
    "MS = Eq(Ms,M/P)\n",
    "\n",
    "### Definisjoner\n",
    "DRE = Eq(R,(E*Ps)/P)\n",
    "DNX = Eq(NX,EX-R*IM)\n",
    "DLE = Eq(u, 1 - (L/N))\n",
    "\n",
    "\n",
    "#RNX = DNX.subs([(EX,solve(YSE,EX)[0]),(IM,solve(CDI,IM)[0])])\n",
    "RNX = DNX.subs([(R,solve(DRE,R)[0]), (IM, solve(CDI.subs([(R,solve(DRE,R)[0])]), IM) [0]),(EX, solve(YSE.subs([(R,solve(DRE,R)[0])]), EX)[0])])\n",
    "\n",
    "## Løsning av modellen fast kurs\n",
    "FastBoP =  Eq(i,solve(EQU.subs([(E,Ee)]),i)[0]+rp)\n",
    "FastISC = Eq(Y,solve(EQV.subs([(G, solve(GD, G)[0]),(C,solve(CD.subs(T,solve(TR,T)[0]),C)[0]), (I, solve(ID, Id)[0]), (NX, solve(RNX, NX)[0])]), Y)[0])\n",
    "FastLMC = Eq(Y,solve(EQM.subs([(Ms, solve(MS,Ms)[0]),(Ld,solve(LD,Ld)[0])]),Y)[0])\n",
    "SEQFasti = Eq(i,solve(FastBoP,i)[0])\n",
    "SEQFastY = FastISC.subs(i,solve(FastBoP,i)[0])\n",
    "\n",
    "### Flytende\n",
    "FlytBoP = Eq(E,solve(EQU, E)[0])\n",
    "FlytISC = Eq(Y,solve(EQV.subs([(G, solve(GD, G)[0]),(C,solve(CD.subs(T,solve(TR,T)[0]),C)[0]), (I, solve(ID, Id)[0]), (NX, solve(RNX, NX)[0])]), Y)[0])\n",
    "FlytLMC = Eq(Y,solve(EQM.subs([(Ms, solve(MS,Ms)[0]),(Ld,solve(LD,Ld)[0])]),Y)[0])\n",
    "FlytISCBoP = FlytISC.subs(E,solve(FlytBoP,E)[0])\n",
    "SEQFlytY = FlytISCBoP.subs([(i,solve(FlytLMC,i)[0]),(E,solve(FlytBoP,E)[0])])\n",
    "#SEQFlyti = solve(FlytLMC,i)[0].subs(Y,solve(SEQFlytY,Y)[0])\n",
    "\n",
    "## AS-kurven\n",
    "AS = PS.subs([(W, solve(LS,W)[0]),(u,solve(DLE.subs(L,solve(PF,L)[0]),u)[0])])\n",
    "IAS = Eq(Y,solve(AS,Y)[0])\n",
    "afterms = set(dir())"
   ]
  },
  {
   "cell_type": "code",
   "execution_count": 4,
   "metadata": {},
   "outputs": [
    {
     "data": {
      "image/png": "[encoded data removed]",
      "text/latex": [
       "$$Y = \\frac{1}{P \\left(E Ps m_{2} + P c_{1} t - P c_{1} + P\\right)} \\left(E^{2} Ps^{2} m_{1} + E P Ps x_{1} + P^{2} Ys x_{2} - P^{2} b \\left(i_{s} + rp\\right) + P^{2} oC + P^{2} oG + P^{2} oI\\right)$$"
      ],
      "text/plain": [
       "     2   2                   2          2                2       2       2   \n",
       "    E ⋅Ps ⋅m₁ + E⋅P⋅Ps⋅x₁ + P ⋅Ys⋅x₂ - P ⋅b⋅(iₛ + rp) + P ⋅oC + P ⋅oG + P ⋅oI\n",
       "Y = ─────────────────────────────────────────────────────────────────────────\n",
       "                         P⋅(E⋅Ps⋅m₂ + P⋅c₁⋅t - P⋅c₁ + P)                     "
      ]
     },
     "execution_count": 4,
     "metadata": {},
     "output_type": "execute_result"
    }
   ],
   "source": [
    "SEQFastY"
   ]
  },
  {
   "cell_type": "code",
   "execution_count": 5,
   "metadata": {
    "autoscroll": false,
    "ein.tags": "worksheet-0",
    "slideshow": {
     "slide_type": "-"
    }
   },
   "outputs": [
    {
     "data": {
      "text/plain": [
       "['IAS',\n",
       " 'FastISC',\n",
       " 'FastBoP',\n",
       " 'CDI',\n",
       " 'EQV',\n",
       " 'LD',\n",
       " 'PS',\n",
       " 'TR',\n",
       " 'SEQFlytY',\n",
       " 'FlytBoP',\n",
       " 'AS',\n",
       " 'YSE',\n",
       " 'DNX',\n",
       " 'GD',\n",
       " 'LS',\n",
       " 'RNX',\n",
       " 'EQM',\n",
       " 'CD',\n",
       " 'YS',\n",
       " 'DRE',\n",
       " 'FlytISCBoP',\n",
       " 'FlytISC',\n",
       " 'SEQFasti',\n",
       " 'SEQFastY',\n",
       " 'FastLMC',\n",
       " 'EQU',\n",
       " 'ID',\n",
       " 'DLE',\n",
       " 'FlytLMC',\n",
       " 'PF',\n",
       " 'MS']"
      ]
     },
     "execution_count": 5,
     "metadata": {},
     "output_type": "execute_result"
    }
   ],
   "source": [
    "modvardict = list(afterms - beforems)\n",
    "modvardict.remove('beforems')\n",
    "#\n",
    "modlatequ = dict()\n",
    "modequ = dict()\n",
    "\n",
    "for teller in range(0,len(modvardict)):\n",
    "    eqvar = modvardict[teller]\n",
    "    modlatequ[eqvar] = latex(eval(modvardict[teller]))\n",
    "    modequ[eqvar] = str(eval(modvardict[teller]).rhs)\n",
    "   \n",
    "expdeftex = open('adasotex.json', 'w')\n",
    "json.dump(modlatequ,expdeftex)\n",
    "expdeftex.close()\n",
    "expdefequ = open('adasoequ.json', 'w')\n",
    "json.dump(modequ,expdefequ)\n",
    "expdefequ.close()\n",
    "modvardict"
   ]
  }
 ],
 "metadata": {
  "kernelspec": {
   "display_name": "Python 3",
   "language": "python",
   "name": "python3"
  },
  "language_info": {
   "codemirror_mode": {
    "name": "ipython",
    "version": 3
   },
   "file_extension": ".py",
   "mimetype": "text/x-python",
   "name": "python",
   "nbconvert_exporter": "python",
   "pygments_lexer": "ipython3",
   "version": "3.6.3"
  },
  "name": "OEKB1115_del1_AD-AS_Open.py.ipynb"
 },
 "nbformat": 4,
 "nbformat_minor": 2
}
