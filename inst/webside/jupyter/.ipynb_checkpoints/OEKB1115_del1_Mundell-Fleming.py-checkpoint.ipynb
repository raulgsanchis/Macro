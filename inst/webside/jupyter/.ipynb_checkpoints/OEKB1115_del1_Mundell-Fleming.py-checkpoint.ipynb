{
 "cells": [
  {
   "cell_type": "markdown",
   "metadata": {
    "ein.tags": "worksheet-0",
    "slideshow": {
     "slide_type": "-"
    }
   },
   "source": [
    "# Initiering"
   ]
  },
  {
   "cell_type": "code",
   "execution_count": 1,
   "metadata": {
    "autoscroll": false,
    "ein.tags": "worksheet-0",
    "slideshow": {
     "slide_type": "-"
    }
   },
   "outputs": [
    {
     "name": "stdout",
     "output_type": "stream",
     "text": [
      "Once deleted, variables cannot be recovered. Proceed (y/[n])? y\n"
     ]
    }
   ],
   "source": [
    "% reset\n",
    "# Initiering\n",
    "# Import packages\n",
    "import json\n",
    "import sympy\n",
    "import numpy\n",
    "import matplotlib.pyplot as plt\n",
    "from sympy import *\n",
    "from matplotlib.pyplot import *\n",
    "init_printing()"
   ]
  },
  {
   "cell_type": "markdown",
   "metadata": {
    "ein.tags": "worksheet-0",
    "slideshow": {
     "slide_type": "-"
    }
   },
   "source": [
    "# Mundell-Fleming modellen"
   ]
  },
  {
   "cell_type": "code",
   "execution_count": 2,
   "metadata": {
    "autoscroll": false,
    "collapsed": true,
    "ein.tags": "worksheet-0",
    "slideshow": {
     "slide_type": "-"
    }
   },
   "outputs": [],
   "source": [
    "# Declaring variables\n",
    "## Endogenous\n",
    "Y, C, I, G, Ld, Ms, P, M, NX, R, IM, EX, E = sympy.symbols('Y C I G L_d M_s  P M NX R IM EX E')\n",
    "## Parametere og konstantledd\n",
    "oC, c1, b, oI, k, h, t, m, m1, m2, x1, x2, P, Ps = sympy.symbols('oC c_1 b oI k h t m m1 m2 x1 x2 P Ps')\n",
    "## Exogene styringsvariableh\n",
    "oG, i, T, Ys, rp, i_s = sympy.symbols('oG i T Ys rp i_s')"
   ]
  },
  {
   "cell_type": "code",
   "execution_count": 68,
   "metadata": {
    "autoscroll": false,
    "ein.tags": "worksheet-0",
    "slideshow": {
     "slide_type": "-"
    }
   },
   "outputs": [],
   "source": [
    "beforems = set(dir())\n",
    "## Markeder\n",
    "### Varemarkedet\n",
    "EQV = Eq(Y, C + I + G + NX)\n",
    "### Pengemarkedet\n",
    "EQM = Eq(Ld, Ms)\n",
    "### Valutakursmarkedet\n",
    "EQU = Eq(i,i_s + rp)\n",
    "\n",
    "## Aktører\n",
    "### Husholdningero\n",
    "#### Konsumfunksjon\n",
    "CD = Eq(C,oC + c1*(Y-T))\n",
    "CDI = Eq(IM, -m1*R + m2*Y)\n",
    "#### Pengeetterspørsel\n",
    "LD = Eq(Ld,k*Y-h*i)\n",
    "### Bedrifter\n",
    "#YS = Eq(Ys, Y)\n",
    "YSE = Eq(EX, x1*R + x2*Ys)\n",
    "#### Investeringer\n",
    "ID = Eq(Id,oI - b*i)\n",
    "### Offentlig myndigheter\n",
    "GD = Eq(G, oG)\n",
    "TR = Eq(T, t*Y)\n",
    "### Sentralbanken\n",
    "MS = Eq(Ms,M)\n",
    "\n",
    "### Definisjoner\n",
    "DRE = Eq(R,(E*Ps)/P)\n",
    "DNX = Eq(NX,EX-R*IM)\n",
    "\n",
    "\n",
    "RNX = DNX.subs([(EX,solve(YSE,EX)[0]),(IM,solve(CDI,IM)[0])])\n",
    "#RNX = DNX.subs([(R,solve(DRE,R)[0]), (IM, solve(CDI.subs([(R,solve(DRE,R)[0])]), IM) [0]\n",
    "#),(EX, solve(YSE.subs([(R,solve(DRE,R)[0])]), EX)[0])])\n",
    "\n",
    "## Løsning av modellen fast kurs\n",
    "## IS\n",
    "ISC = Eq(Y,solve(EQV.subs([(G, solve(GD, G)[0]),(C,solve(CD.subs(T,solve(TR,T)[0]),C)[0]), (I, solve(ID, Id)[0]), (NX, solve(RNX, NX)[0])]), Y)[0])\n",
    "#ISC = Eq(Y,solve(EQV.subs([(G, solve(GD, G)[0]),(C,solve(CD, C)[0]), (I, solve(ID, Id)[0]), (NX, solve(RNX, NX)[0])]), Y)[0])\n",
    "\n",
    "## LM\n",
    "### Fast\n",
    "LMC = Eq(Y,solve(EQM.subs([(Ms, solve(MS,Ms)[0]),(Ld,solve(LD,Ld)[0])]),Y)[0])\n",
    "### Flytende\n",
    "\n",
    "## Samtidig likevekt \n",
    "SEQFasti=Eq(i,solve(EQU,i)[0])\n",
    "SEQFastY = ISC.subs(i,solve(EQU,i)[0])\n",
    "\n",
    "## Løsning av modellen flytende kurs\n",
    "afterms = set(dir())"
   ]
  },
  {
   "cell_type": "code",
   "execution_count": 69,
   "metadata": {},
   "outputs": [
    {
     "data": {
      "image/png": "[encoded data removed]",
      "text/latex": [
       "$$Y = \\frac{R^{2} m_{1} + R x_{1} + Ys x_{2}}{R m_{2} + 1}$$"
      ],
      "text/plain": [
       "     2                  \n",
       "    R ⋅m₁ + R⋅x₁ + Ys⋅x₂\n",
       "Y = ────────────────────\n",
       "          R⋅m₂ + 1      "
      ]
     },
     "execution_count": 69,
     "metadata": {},
     "output_type": "execute_result"
    }
   ],
   "source": [
    "ISC"
   ]
  },
  {
   "cell_type": "code",
   "execution_count": 4,
   "metadata": {},
   "outputs": [
    {
     "data": {
      "text/plain": [
       "['LMC',\n",
       " 'EQM',\n",
       " 'EQU',\n",
       " 'TR',\n",
       " 'DNX',\n",
       " 'ISC',\n",
       " 'CDI',\n",
       " 'DRE',\n",
       " 'EQV',\n",
       " 'LD',\n",
       " 'SEQFasti',\n",
       " 'ID',\n",
       " 'SEQFastY',\n",
       " 'YSE',\n",
       " 'GD',\n",
       " 'CD',\n",
       " 'RNX',\n",
       " 'MS']"
      ]
     },
     "execution_count": 4,
     "metadata": {},
     "output_type": "execute_result"
    }
   ],
   "source": [
    "modvardict = list(afterms - beforems)\n",
    "modvardict.remove('beforems')\n",
    "#\n",
    "modlatequ = dict()\n",
    "modequ = dict()\n",
    "\n",
    "for teller in range(0,len(modvardict)):\n",
    "    eqvar = modvardict[teller]\n",
    "    modlatequ[eqvar] = latex(eval(modvardict[teller]))\n",
    "    modequ[eqvar] = str(eval(modvardict[teller]).rhs)\n",
    "   \n",
    "expdeftex = open('islmoctex.json', 'w')\n",
    "json.dump(modlatequ,expdeftex)\n",
    "expdeftex.close()\n",
    "expdefequ = open('islmocequ.json', 'w')\n",
    "json.dump(modequ,expdefequ)\n",
    "expdefequ.close()\n",
    "modvardict"
   ]
  }
 ],
 "metadata": {
  "kernelspec": {
   "display_name": "Python 3",
   "language": "python",
   "name": "python3"
  },
  "language_info": {
   "codemirror_mode": {
    "name": "ipython",
    "version": 3
   },
   "file_extension": ".py",
   "mimetype": "text/x-python",
   "name": "python",
   "nbconvert_exporter": "python",
   "pygments_lexer": "ipython3",
   "version": "3.6.3"
  },
  "name": "OEKB1115_del1.py.ipynb"
 },
 "nbformat": 4,
 "nbformat_minor": 2
}
