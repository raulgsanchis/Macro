{
 "cells": [
  {
   "cell_type": "markdown",
   "metadata": {},
   "source": [
    "# Initiering"
   ]
  },
  {
   "cell_type": "code",
   "execution_count": 105,
   "metadata": {},
   "outputs": [
    {
     "name": "stdout",
     "output_type": "stream",
     "text": [
      "Once deleted, variables cannot be recovered. Proceed (y/[n])? y\n"
     ]
    }
   ],
   "source": [
    "% reset\n",
    "# Initiering\n",
    "# Import packages\n",
    "import json\n",
    "import sympy\n",
    "import numpy\n",
    "import matplotlib.pyplot as plt\n",
    "from sympy import *\n",
    "from matplotlib.pyplot import *"
   ]
  },
  {
   "cell_type": "code",
   "execution_count": 106,
   "metadata": {
    "collapsed": true
   },
   "outputs": [],
   "source": [
    "# Declaring variables\n",
    "## Endogenous\n",
    "Y, C, I, G = sympy.symbols('Y C I G')\n",
    "Ys, Id = sympy.symbols('Y^s I^d')\n",
    "## Parameters\n",
    "oC, c1 = sympy.symbols('oC c_1')\n",
    "## Exogenous\n",
    "oG, oI = sympy.symbols('oG oI')"
   ]
  },
  {
   "cell_type": "markdown",
   "metadata": {},
   "source": [
    "# Enkel Keynes-modell"
   ]
  },
  {
   "cell_type": "code",
   "execution_count": 107,
   "metadata": {},
   "outputs": [
    {
     "data": {
      "text/plain": [
       "['ID', 'AD', 'EQV', 'YS', 'CD', 'GD']"
      ]
     },
     "execution_count": 107,
     "metadata": {},
     "output_type": "execute_result"
    }
   ],
   "source": [
    "beforems = set(dir())\n",
    "## Household\n",
    "### Consumption\n",
    "CD = Eq(C,oC + c1*Y)\n",
    "## Firm\n",
    "YS = Eq(Ys, Y)\n",
    "#### Investment\n",
    "ID = Eq(Id,oI)\n",
    "## Government\n",
    "### Treasury department\n",
    "GD = Eq(G, oG)\n",
    "## Markeder\n",
    "### Varemarkedet\n",
    "EQV = Eq(Y, C + I + G)\n",
    "# Løser mhp på produksjon\n",
    "AD = Eq(Y,solve(EQV.subs([(G, solve(GD, G)[0]),(C,solve(CD, C)[0]), (I, solve(ID, Id)[0])]), Y)[0])\n",
    "afterms = set(dir())\n",
    "modvardict = list(afterms - beforems)\n",
    "modvardict.remove('beforems')\n",
    "#\n",
    "modlatequ = dict()\n",
    "modequ = dict()\n",
    "\n",
    "for teller in range(0,len(modvardict)):\n",
    "    eqvar = modvardict[teller]\n",
    "    modlatequ[eqvar] = latex(eval(modvardict[teller]))\n",
    "    modequ[eqvar] = str(eval(modvardict[teller]).rhs)\n",
    "   \n",
    "expdeftex = open('keynestex.json', 'w')\n",
    "json.dump(modlatequ,expdeftex)\n",
    "expdeftex.close()\n",
    "expdefequ = open('keynesequ.json', 'w')\n",
    "json.dump(modequ,expdefequ)\n",
    "expdefequ.close()\n",
    "modvardict"
   ]
  },
  {
   "cell_type": "code",
   "execution_count": 9,
   "metadata": {},
   "outputs": [
    {
     "data": {
      "text/html": [
       "<dl>\n",
       "\t<dt>$ID</dt>\n",
       "\t\t<dd>'oI'</dd>\n",
       "\t<dt>$AD</dt>\n",
       "\t\t<dd>'-(oC + oG + oI)/(c_1 - 1)'</dd>\n",
       "\t<dt>$EQV</dt>\n",
       "\t\t<dd>'C + G + I'</dd>\n",
       "\t<dt>$YS</dt>\n",
       "\t\t<dd>'Y'</dd>\n",
       "\t<dt>$CD</dt>\n",
       "\t\t<dd>'Y*c_1 + oC'</dd>\n",
       "\t<dt>$GD</dt>\n",
       "\t\t<dd>'oG'</dd>\n",
       "</dl>\n"
      ],
      "text/latex": [
       "\\begin{description}\n",
       "\\item[\\$ID] 'oI'\n",
       "\\item[\\$AD] '-(oC + oG + oI)/(c\\_1 - 1)'\n",
       "\\item[\\$EQV] 'C + G + I'\n",
       "\\item[\\$YS] 'Y'\n",
       "\\item[\\$CD] 'Y*c\\_1 + oC'\n",
       "\\item[\\$GD] 'oG'\n",
       "\\end{description}\n"
      ],
      "text/markdown": [
       "$ID\n",
       ":   'oI'\n",
       "$AD\n",
       ":   '-(oC + oG + oI)/(c_1 - 1)'\n",
       "$EQV\n",
       ":   'C + G + I'\n",
       "$YS\n",
       ":   'Y'\n",
       "$CD\n",
       ":   'Y*c_1 + oC'\n",
       "$GD\n",
       ":   'oG'\n",
       "\n",
       "\n"
      ],
      "text/plain": [
       "$ID\n",
       "[1] \"oI\"\n",
       "\n",
       "$AD\n",
       "[1] \"-(oC + oG + oI)/(c_1 - 1)\"\n",
       "\n",
       "$EQV\n",
       "[1] \"C + G + I\"\n",
       "\n",
       "$YS\n",
       "[1] \"Y\"\n",
       "\n",
       "$CD\n",
       "[1] \"Y*c_1 + oC\"\n",
       "\n",
       "$GD\n",
       "[1] \"oG\"\n"
      ]
     },
     "metadata": {},
     "output_type": "display_data"
    }
   ],
   "source": [
    "keynesequ <- rjson::fromJSON(file=paste0(devtools::as.package(\".\")$path,'/webside/jupyter/keynesequ.json'))\n",
    "keynesequ"
   ]
  },
  {
   "cell_type": "markdown",
   "metadata": {},
   "source": [
    "# IS-LM modellen for en lukket økonomi"
   ]
  },
  {
   "cell_type": "code",
   "execution_count": null,
   "metadata": {
    "collapsed": true
   },
   "outputs": [],
   "source": []
  },
  {
   "cell_type": "markdown",
   "metadata": {},
   "source": [
    "# AD-AS modellen for en lukket økonomi "
   ]
  },
  {
   "cell_type": "code",
   "execution_count": null,
   "metadata": {
    "collapsed": true
   },
   "outputs": [],
   "source": []
  },
  {
   "cell_type": "markdown",
   "metadata": {},
   "source": [
    "# Mundell-Flemming modellen for en åpen økonomi"
   ]
  },
  {
   "cell_type": "code",
   "execution_count": null,
   "metadata": {
    "collapsed": true
   },
   "outputs": [],
   "source": []
  },
  {
   "cell_type": "markdown",
   "metadata": {},
   "source": [
    "# AD-AS modellen for en åpen økonomi"
   ]
  },
  {
   "cell_type": "code",
   "execution_count": null,
   "metadata": {
    "collapsed": true
   },
   "outputs": [],
   "source": []
  }
 ],
 "metadata": {
  "kernelspec": {
   "display_name": "R",
   "language": "R",
   "name": "ir"
  },
  "language_info": {
   "codemirror_mode": "r",
   "file_extension": ".r",
   "mimetype": "text/x-r-source",
   "name": "R",
   "pygments_lexer": "r",
   "version": "3.4.2"
  }
 },
 "nbformat": 4,
 "nbformat_minor": 2
}
