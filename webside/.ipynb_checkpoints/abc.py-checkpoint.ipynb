{
 "cells": [
  {
   "cell_type": "markdown",
   "metadata": {},
   "source": [
    "# Initiering"
   ]
  },
  {
   "cell_type": "code",
   "execution_count": 12,
   "metadata": {
    "collapsed": true
   },
   "outputs": [],
   "source": [
    "# Initiering\n",
    "\n",
    "# Import packages\n",
    "import json\n",
    "import sympy\n",
    "import numpy\n",
    "import matplotlib.pyplot as plt\n",
    "from sympy import *\n",
    "from matplotlib.pyplot import *"
   ]
  },
  {
   "cell_type": "code",
   "execution_count": 25,
   "metadata": {},
   "outputs": [],
   "source": [
    "beforems = set(dir())\n",
    "# Declaring variables\n",
    "## Endogenous\n",
    "C, I, G = sympy.symbols('C I G')\n",
    "#C, P, Y, G, I = sympy.symbols('C P Y G I')\n",
    "#Y, N, Pia, Pib = sympy.symbols('Ya Yb Na Nb Pi_a Pi_b')\n",
    "#N1s, Ms, Gs, Is, N2s, Yas, Ls, Ybs = sympy.symbols('N_1^s M^s G^s I^s N_2^s Y^s L^s Y_b^s')\n",
    "#Nad, Mcd, Iad, Mid, Lbd, rho_d = sympy.symbols('Na^d M_c^d I_a^d M_i^d L_b^d rho_l^e')\n",
    "#W, i, Pa, Pb, rhod = sympy.symbols('W i P_a P_b rho^d')\n",
    "\n",
    "## Parameters\n",
    "oC, c1 = sympy.symbols('oC c_1')\n",
    "#gamma, beta, sigma, S1, n1, n2, alphaa, alphab = sympy.symbols('gamma beta sigma S_1 n_1 n_2 alpha_a alpha_b')\n",
    "#u = sympy.symbols(\"u\")\n",
    "\n",
    "## Exogenous\n",
    "#N1, N2, oG, L, oI, H = sympy.symbols('N_1 N_2 oG L oI H')\n",
    "#Pib, X, N, z, mu, S = sympy.symbols('Pi_b X N z  mu S')\n",
    "### Definitions\n",
    "#### General accounting identity\n",
    "GAI = Eq(Y,C+I+G)\n",
    "## Expectations\n",
    "#Pea, Peb, Pe, rhole = sympy.symbols('P_e_a P_e_b P_e rho_l_e')"
   ]
  },
  {
   "cell_type": "markdown",
   "metadata": {},
   "source": [
    "# Enkel Keynes-modell"
   ]
  },
  {
   "cell_type": "code",
   "execution_count": 34,
   "metadata": {
    "collapsed": true
   },
   "outputs": [],
   "source": [
    "## Household\n",
    "### Consumption\n",
    "CD = Eq(C,oC + c1*Y)\n",
    "#CD = Eq(C,oC + 3)\n",
    "## Firm\n",
    "#YSSA = Eq(Yas,Ya)\n",
    "\n",
    "## Financial intermediarieres\n",
    "### Investment bank\n",
    "#IS = Eq(Is,S)\n",
    "## Government\n",
    "## Markeder\n",
    "### Varemarkedet\n",
    "EQV = Eq(Y,C + I + G)"
   ]
  },
  {
   "cell_type": "code",
   "execution_count": 42,
   "metadata": {},
   "outputs": [],
   "source": [
    "AD = GAI.subs([(C,solve(CD, C)[0]), (I, 0 ), (G, 0)])"
   ]
  },
  {
   "cell_type": "code",
   "execution_count": 47,
   "metadata": {},
   "outputs": [
    {
     "data": {
      "text/plain": [
       "[-oC/(c_1 - 1)]"
      ]
     },
     "execution_count": 47,
     "metadata": {},
     "output_type": "execute_result"
    }
   ],
   "source": [
    "OUT = solve(AD, Y)\n",
    "OUT\n",
    "afterms = set(dir())"
   ]
  },
  {
   "cell_type": "code",
   "execution_count": null,
   "metadata": {
    "collapsed": true
   },
   "outputs": [],
   "source": [
    "#afterms = set(dir())\n",
    "#modvardict = list(afterms - beforems)\n",
    "#modvardict.remove('beforems')\n",
    "\n",
    "#modlatequ = dict()\n",
    "#modequ = dict()\n",
    "\n",
    "#for teller in range(0,len(modvardict)):\n",
    "#     eqvar = modvardict[teller]\n",
    "#     modlatequ[eqvar] = latex(eval(modvardict[teller]))\n",
    "#     modequ[eqvar] = str(eval(modvardict[teller]).rhs)\n",
    "\n",
    "\n",
    "#expdeftex = open('inst/modules/moduleItex.json', 'w')\n",
    "#json.dump(modlatequ,expdeftex)\n",
    "#expdeftex.close()\n",
    "#expdefequ = open('inst/modules/moduleIequ.json', 'w')\n",
    "#json.dump(modequ,expdefequ)\n",
    "#expdefequ.close()"
   ]
  },
  {
   "cell_type": "markdown",
   "metadata": {},
   "source": [
    "# IS-LM modellen for en lukket økonomi"
   ]
  },
  {
   "cell_type": "code",
   "execution_count": null,
   "metadata": {
    "collapsed": true
   },
   "outputs": [],
   "source": []
  },
  {
   "cell_type": "markdown",
   "metadata": {},
   "source": [
    "# AD-AS modellen for en lukket økonomi "
   ]
  },
  {
   "cell_type": "code",
   "execution_count": null,
   "metadata": {
    "collapsed": true
   },
   "outputs": [],
   "source": []
  },
  {
   "cell_type": "markdown",
   "metadata": {},
   "source": [
    "# IS-LM modellen for en åpen økonomi"
   ]
  },
  {
   "cell_type": "code",
   "execution_count": null,
   "metadata": {
    "collapsed": true
   },
   "outputs": [],
   "source": []
  },
  {
   "cell_type": "markdown",
   "metadata": {},
   "source": [
    "# AD-AS modellen for en åpen økonomi"
   ]
  },
  {
   "cell_type": "code",
   "execution_count": null,
   "metadata": {
    "collapsed": true
   },
   "outputs": [],
   "source": []
  }
 ],
 "metadata": {
  "kernelspec": {
   "display_name": "Python 3",
   "language": "python",
   "name": "python3"
  },
  "language_info": {
   "codemirror_mode": {
    "name": "ipython",
    "version": 3
   },
   "file_extension": ".py",
   "mimetype": "text/x-python",
   "name": "python",
   "nbconvert_exporter": "python",
   "pygments_lexer": "ipython3",
   "version": "3.6.3"
  }
 },
 "nbformat": 4,
 "nbformat_minor": 2
}
